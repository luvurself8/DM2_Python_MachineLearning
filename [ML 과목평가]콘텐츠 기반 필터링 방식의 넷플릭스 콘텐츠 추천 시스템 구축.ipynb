{
 "cells": [
  {
   "cell_type": "markdown",
   "id": "6946c05e",
   "metadata": {},
   "source": [
    "<font size=5> **[넷플릭스 데이터를 활용한 추천 시스템 개발]** </font>\n",
    "- netflix_titles.csv 데이터를 활용하여 주요 데이터 시각화 및 추천 시스템을 개발하시오\n",
    "- 각 마크다운 셀의 내용을 참고하여 비어있는 코드 셀에 코드를 작성합니다.\n",
    "- 제시된 아웃풋은 참고이며 반드시 동일할 필요는 없습니다.\n",
    "- <font color='red'><b>빨간색</b></font>으로 표기된 영역은 이미 작성되어 있는 코드로 그대로 활용하시면 됩니다."
   ]
  },
  {
   "cell_type": "markdown",
   "id": "45441074",
   "metadata": {},
   "source": [
    "# 데이터 로딩"
   ]
  },
  {
   "cell_type": "code",
   "execution_count": 1,
   "id": "a430bc1e",
   "metadata": {},
   "outputs": [],
   "source": [
    "import numpy as np\n",
    "import pandas as pd\n",
    "import seaborn as sns\n",
    "import matplotlib.pyplot as plt"
   ]
  },
  {
   "cell_type": "code",
   "execution_count": 2,
   "id": "44e7155a",
   "metadata": {
    "scrolled": true
   },
   "outputs": [],
   "source": [
    "netflix = pd.read_csv('./netflix_titles.csv')"
   ]
  },
  {
   "cell_type": "code",
   "execution_count": 3,
   "id": "4a6e74f5",
   "metadata": {},
   "outputs": [
    {
     "data": {
      "text/html": [
       "<div>\n",
       "<style scoped>\n",
       "    .dataframe tbody tr th:only-of-type {\n",
       "        vertical-align: middle;\n",
       "    }\n",
       "\n",
       "    .dataframe tbody tr th {\n",
       "        vertical-align: top;\n",
       "    }\n",
       "\n",
       "    .dataframe thead th {\n",
       "        text-align: right;\n",
       "    }\n",
       "</style>\n",
       "<table border=\"1\" class=\"dataframe\">\n",
       "  <thead>\n",
       "    <tr style=\"text-align: right;\">\n",
       "      <th></th>\n",
       "      <th>show_id</th>\n",
       "      <th>type</th>\n",
       "      <th>title</th>\n",
       "      <th>director</th>\n",
       "      <th>cast</th>\n",
       "      <th>country</th>\n",
       "      <th>date_added</th>\n",
       "      <th>release_year</th>\n",
       "      <th>rating</th>\n",
       "      <th>duration</th>\n",
       "      <th>listed_in</th>\n",
       "      <th>description</th>\n",
       "    </tr>\n",
       "  </thead>\n",
       "  <tbody>\n",
       "    <tr>\n",
       "      <th>0</th>\n",
       "      <td>s1</td>\n",
       "      <td>TV Show</td>\n",
       "      <td>3%</td>\n",
       "      <td>NaN</td>\n",
       "      <td>João Miguel, Bianca Comparato, Michel Gomes, R...</td>\n",
       "      <td>Brazil</td>\n",
       "      <td>August 14, 2020</td>\n",
       "      <td>2020</td>\n",
       "      <td>TV-MA</td>\n",
       "      <td>4 Seasons</td>\n",
       "      <td>International TV Shows, TV Dramas, TV Sci-Fi &amp;...</td>\n",
       "      <td>In a future where the elite inhabit an island ...</td>\n",
       "    </tr>\n",
       "    <tr>\n",
       "      <th>1</th>\n",
       "      <td>s2</td>\n",
       "      <td>Movie</td>\n",
       "      <td>7:19</td>\n",
       "      <td>Jorge Michel Grau</td>\n",
       "      <td>Demián Bichir, Héctor Bonilla, Oscar Serrano, ...</td>\n",
       "      <td>Mexico</td>\n",
       "      <td>December 23, 2016</td>\n",
       "      <td>2016</td>\n",
       "      <td>TV-MA</td>\n",
       "      <td>93 min</td>\n",
       "      <td>Dramas, International Movies</td>\n",
       "      <td>After a devastating earthquake hits Mexico Cit...</td>\n",
       "    </tr>\n",
       "    <tr>\n",
       "      <th>2</th>\n",
       "      <td>s3</td>\n",
       "      <td>Movie</td>\n",
       "      <td>23:59</td>\n",
       "      <td>Gilbert Chan</td>\n",
       "      <td>Tedd Chan, Stella Chung, Henley Hii, Lawrence ...</td>\n",
       "      <td>Singapore</td>\n",
       "      <td>December 20, 2018</td>\n",
       "      <td>2011</td>\n",
       "      <td>R</td>\n",
       "      <td>78 min</td>\n",
       "      <td>Horror Movies, International Movies</td>\n",
       "      <td>When an army recruit is found dead, his fellow...</td>\n",
       "    </tr>\n",
       "    <tr>\n",
       "      <th>3</th>\n",
       "      <td>s4</td>\n",
       "      <td>Movie</td>\n",
       "      <td>9</td>\n",
       "      <td>Shane Acker</td>\n",
       "      <td>Elijah Wood, John C. Reilly, Jennifer Connelly...</td>\n",
       "      <td>United States</td>\n",
       "      <td>November 16, 2017</td>\n",
       "      <td>2009</td>\n",
       "      <td>PG-13</td>\n",
       "      <td>80 min</td>\n",
       "      <td>Action &amp; Adventure, Independent Movies, Sci-Fi...</td>\n",
       "      <td>In a postapocalyptic world, rag-doll robots hi...</td>\n",
       "    </tr>\n",
       "    <tr>\n",
       "      <th>4</th>\n",
       "      <td>s5</td>\n",
       "      <td>Movie</td>\n",
       "      <td>21</td>\n",
       "      <td>Robert Luketic</td>\n",
       "      <td>Jim Sturgess, Kevin Spacey, Kate Bosworth, Aar...</td>\n",
       "      <td>United States</td>\n",
       "      <td>January 1, 2020</td>\n",
       "      <td>2008</td>\n",
       "      <td>PG-13</td>\n",
       "      <td>123 min</td>\n",
       "      <td>Dramas</td>\n",
       "      <td>A brilliant group of students become card-coun...</td>\n",
       "    </tr>\n",
       "  </tbody>\n",
       "</table>\n",
       "</div>"
      ],
      "text/plain": [
       "  show_id     type  title           director  \\\n",
       "0      s1  TV Show     3%                NaN   \n",
       "1      s2    Movie   7:19  Jorge Michel Grau   \n",
       "2      s3    Movie  23:59       Gilbert Chan   \n",
       "3      s4    Movie      9        Shane Acker   \n",
       "4      s5    Movie     21     Robert Luketic   \n",
       "\n",
       "                                                cast        country  \\\n",
       "0  João Miguel, Bianca Comparato, Michel Gomes, R...         Brazil   \n",
       "1  Demián Bichir, Héctor Bonilla, Oscar Serrano, ...         Mexico   \n",
       "2  Tedd Chan, Stella Chung, Henley Hii, Lawrence ...      Singapore   \n",
       "3  Elijah Wood, John C. Reilly, Jennifer Connelly...  United States   \n",
       "4  Jim Sturgess, Kevin Spacey, Kate Bosworth, Aar...  United States   \n",
       "\n",
       "          date_added  release_year rating   duration  \\\n",
       "0    August 14, 2020          2020  TV-MA  4 Seasons   \n",
       "1  December 23, 2016          2016  TV-MA     93 min   \n",
       "2  December 20, 2018          2011      R     78 min   \n",
       "3  November 16, 2017          2009  PG-13     80 min   \n",
       "4    January 1, 2020          2008  PG-13    123 min   \n",
       "\n",
       "                                           listed_in  \\\n",
       "0  International TV Shows, TV Dramas, TV Sci-Fi &...   \n",
       "1                       Dramas, International Movies   \n",
       "2                Horror Movies, International Movies   \n",
       "3  Action & Adventure, Independent Movies, Sci-Fi...   \n",
       "4                                             Dramas   \n",
       "\n",
       "                                         description  \n",
       "0  In a future where the elite inhabit an island ...  \n",
       "1  After a devastating earthquake hits Mexico Cit...  \n",
       "2  When an army recruit is found dead, his fellow...  \n",
       "3  In a postapocalyptic world, rag-doll robots hi...  \n",
       "4  A brilliant group of students become card-coun...  "
      ]
     },
     "execution_count": 3,
     "metadata": {},
     "output_type": "execute_result"
    }
   ],
   "source": [
    "netflix.head()"
   ]
  },
  {
   "cell_type": "code",
   "execution_count": 4,
   "id": "2702927a",
   "metadata": {},
   "outputs": [
    {
     "name": "stdout",
     "output_type": "stream",
     "text": [
      "<class 'pandas.core.frame.DataFrame'>\n",
      "RangeIndex: 7787 entries, 0 to 7786\n",
      "Data columns (total 12 columns):\n",
      " #   Column        Non-Null Count  Dtype \n",
      "---  ------        --------------  ----- \n",
      " 0   show_id       7787 non-null   object\n",
      " 1   type          7787 non-null   object\n",
      " 2   title         7787 non-null   object\n",
      " 3   director      5398 non-null   object\n",
      " 4   cast          7069 non-null   object\n",
      " 5   country       7280 non-null   object\n",
      " 6   date_added    7777 non-null   object\n",
      " 7   release_year  7787 non-null   int64 \n",
      " 8   rating        7780 non-null   object\n",
      " 9   duration      7787 non-null   object\n",
      " 10  listed_in     7787 non-null   object\n",
      " 11  description   7787 non-null   object\n",
      "dtypes: int64(1), object(11)\n",
      "memory usage: 730.2+ KB\n"
     ]
    }
   ],
   "source": [
    "netflix.info()"
   ]
  },
  {
   "cell_type": "markdown",
   "id": "6d7c2520",
   "metadata": {},
   "source": [
    "# 주요 데이터 시각화"
   ]
  },
  {
   "cell_type": "markdown",
   "id": "f0ff083a",
   "metadata": {},
   "source": [
    "## TV Show vs Movies (콘텐츠 타입) 막대 그래프"
   ]
  },
  {
   "cell_type": "code",
   "execution_count": 5,
   "id": "e0a9c9ac",
   "metadata": {},
   "outputs": [
    {
     "data": {
      "text/html": [
       "<div>\n",
       "<style scoped>\n",
       "    .dataframe tbody tr th:only-of-type {\n",
       "        vertical-align: middle;\n",
       "    }\n",
       "\n",
       "    .dataframe tbody tr th {\n",
       "        vertical-align: top;\n",
       "    }\n",
       "\n",
       "    .dataframe thead th {\n",
       "        text-align: right;\n",
       "    }\n",
       "</style>\n",
       "<table border=\"1\" class=\"dataframe\">\n",
       "  <thead>\n",
       "    <tr style=\"text-align: right;\">\n",
       "      <th></th>\n",
       "      <th>type</th>\n",
       "    </tr>\n",
       "  </thead>\n",
       "  <tbody>\n",
       "    <tr>\n",
       "      <th>TV Show</th>\n",
       "      <td>2410</td>\n",
       "    </tr>\n",
       "    <tr>\n",
       "      <th>Movie</th>\n",
       "      <td>5377</td>\n",
       "    </tr>\n",
       "  </tbody>\n",
       "</table>\n",
       "</div>"
      ],
      "text/plain": [
       "         type\n",
       "TV Show  2410\n",
       "Movie    5377"
      ]
     },
     "execution_count": 5,
     "metadata": {},
     "output_type": "execute_result"
    }
   ],
   "source": [
    "contents_type= pd.DataFrame(netflix['type'].value_counts()).sort_values('type')\n",
    "contents_type"
   ]
  },
  {
   "cell_type": "code",
   "execution_count": 6,
   "id": "e96bce02",
   "metadata": {},
   "outputs": [
    {
     "data": {
      "image/png": "[encoded data removed]",
      "text/plain": [
       "<Figure size 640x480 with 1 Axes>"
      ]
     },
     "metadata": {},
     "output_type": "display_data"
    }
   ],
   "source": [
    "sns.barplot(data= contents_type, x= contents_type.index, y='type')\n",
    "plt.xlabel('type')\n",
    "plt.ylabel('count')\n",
    "plt.grid(True, axis='y')\n",
    "plt.show()"
   ]
  },
  {
   "cell_type": "markdown",
   "id": "142daff0",
   "metadata": {},
   "source": [
    "## 제작 국가별 수평 막대 그래프\n",
    "- 결측 값 확인 및 결측 값을 포함한 레코드 삭제\n",
    "- 2개 이상의 제작국가 값을 가지고 있는 레코드는 ‘,’를 기준으로 분류하여 카운팅 한다.\n",
    "- 상위 10개국에 대한 막대그래프를 그린다."
   ]
  },
  {
   "cell_type": "code",
   "execution_count": 7,
   "id": "bb14e41b",
   "metadata": {},
   "outputs": [
    {
     "data": {
      "text/plain": [
       "(7787, 12)"
      ]
     },
     "execution_count": 7,
     "metadata": {},
     "output_type": "execute_result"
    }
   ],
   "source": [
    "netflix.shape"
   ]
  },
  {
   "cell_type": "code",
   "execution_count": 8,
   "id": "24b75ad3",
   "metadata": {},
   "outputs": [
    {
     "data": {
      "text/plain": [
       "507"
      ]
     },
     "execution_count": 8,
     "metadata": {},
     "output_type": "execute_result"
    }
   ],
   "source": [
    "np.sum(netflix['country'].isna())"
   ]
  },
  {
   "cell_type": "code",
   "execution_count": 9,
   "id": "85bcd663",
   "metadata": {},
   "outputs": [],
   "source": [
    "country = netflix['country'].dropna()"
   ]
  },
  {
   "cell_type": "code",
   "execution_count": 10,
   "id": "0364b3d9",
   "metadata": {},
   "outputs": [
    {
     "data": {
      "text/plain": [
       "0                                                [Brazil]\n",
       "1                                                [Mexico]\n",
       "2                                             [Singapore]\n",
       "3                                         [United States]\n",
       "4                                         [United States]\n",
       "                              ...                        \n",
       "7781                                      [United States]\n",
       "7782    [Sweden, Czech Republic, United Kingdom, Denma...\n",
       "7783                                              [India]\n",
       "7785                                          [Australia]\n",
       "7786              [United Kingdom, Canada, United States]\n",
       "Name: country, Length: 7280, dtype: object"
      ]
     },
     "execution_count": 10,
     "metadata": {},
     "output_type": "execute_result"
    }
   ],
   "source": [
    "country= country.str.split(', ')\n",
    "country"
   ]
  },
  {
   "cell_type": "code",
   "execution_count": 11,
   "id": "563f12bd",
   "metadata": {},
   "outputs": [],
   "source": [
    "country_count = dict()\n",
    "for x in country:\n",
    "    for word in x:\n",
    "        if word not in country_count.keys():\n",
    "            country_count[word] = 1\n",
    "        if word in country_count.keys():\n",
    "            country_count[word] += 1"
   ]
  },
  {
   "cell_type": "code",
   "execution_count": 12,
   "id": "4544c682",
   "metadata": {},
   "outputs": [
    {
     "data": {
      "text/html": [
       "<div>\n",
       "<style scoped>\n",
       "    .dataframe tbody tr th:only-of-type {\n",
       "        vertical-align: middle;\n",
       "    }\n",
       "\n",
       "    .dataframe tbody tr th {\n",
       "        vertical-align: top;\n",
       "    }\n",
       "\n",
       "    .dataframe thead th {\n",
       "        text-align: right;\n",
       "    }\n",
       "</style>\n",
       "<table border=\"1\" class=\"dataframe\">\n",
       "  <thead>\n",
       "    <tr style=\"text-align: right;\">\n",
       "      <th></th>\n",
       "      <th>count</th>\n",
       "    </tr>\n",
       "  </thead>\n",
       "  <tbody>\n",
       "    <tr>\n",
       "      <th>United States</th>\n",
       "      <td>3297</td>\n",
       "    </tr>\n",
       "    <tr>\n",
       "      <th>India</th>\n",
       "      <td>991</td>\n",
       "    </tr>\n",
       "    <tr>\n",
       "      <th>United Kingdom</th>\n",
       "      <td>723</td>\n",
       "    </tr>\n",
       "    <tr>\n",
       "      <th>Canada</th>\n",
       "      <td>413</td>\n",
       "    </tr>\n",
       "    <tr>\n",
       "      <th>France</th>\n",
       "      <td>350</td>\n",
       "    </tr>\n",
       "    <tr>\n",
       "      <th>Japan</th>\n",
       "      <td>288</td>\n",
       "    </tr>\n",
       "    <tr>\n",
       "      <th>Spain</th>\n",
       "      <td>216</td>\n",
       "    </tr>\n",
       "    <tr>\n",
       "      <th>South Korea</th>\n",
       "      <td>213</td>\n",
       "    </tr>\n",
       "    <tr>\n",
       "      <th>Germany</th>\n",
       "      <td>200</td>\n",
       "    </tr>\n",
       "    <tr>\n",
       "      <th>Mexico</th>\n",
       "      <td>155</td>\n",
       "    </tr>\n",
       "  </tbody>\n",
       "</table>\n",
       "</div>"
      ],
      "text/plain": [
       "                count\n",
       "United States    3297\n",
       "India             991\n",
       "United Kingdom    723\n",
       "Canada            413\n",
       "France            350\n",
       "Japan             288\n",
       "Spain             216\n",
       "South Korea       213\n",
       "Germany           200\n",
       "Mexico            155"
      ]
     },
     "execution_count": 12,
     "metadata": {},
     "output_type": "execute_result"
    }
   ],
   "source": [
    "country_count_df = pd.DataFrame(pd.Series(country_count), columns=['count']).sort_values('count',ascending=False).head(10)\n",
    "country_count_df"
   ]
  },
  {
   "cell_type": "code",
   "execution_count": 13,
   "id": "a4245a66",
   "metadata": {},
   "outputs": [
    {
     "data": {
      "image/png": "[encoded data removed]",
      "text/plain": [
       "<Figure size 640x480 with 1 Axes>"
      ]
     },
     "metadata": {},
     "output_type": "display_data"
    }
   ],
   "source": [
    "sns.barplot(data= country_count_df, x= 'count', y= country_count_df.index)\n",
    "plt.grid(True, axis = 'x')\n",
    "plt.show()"
   ]
  },
  {
   "cell_type": "markdown",
   "id": "618c8fe1",
   "metadata": {},
   "source": [
    "# 제목, 장르, 요약내용 특성 값을 기반으로 한 콘텐츠 기반 필터링 추천"
   ]
  },
  {
   "cell_type": "markdown",
   "id": "61336c16",
   "metadata": {},
   "source": [
    "## 데이터 전처리"
   ]
  },
  {
   "cell_type": "markdown",
   "id": "d63ba2dc",
   "metadata": {},
   "source": [
    "### 추천 알고리즘 분석과 관련한 컬럼만 추출\n",
    "- 추출 대상 컬럼: 'show_id', 'title', 'listed_in', 'description'    "
   ]
  },
  {
   "cell_type": "code",
   "execution_count": 14,
   "id": "f4ffe9d0",
   "metadata": {
    "run_control": {
     "marked": true
    }
   },
   "outputs": [],
   "source": [
    "netflix_df = netflix[['show_id', 'title', 'listed_in', 'description']]"
   ]
  },
  {
   "cell_type": "code",
   "execution_count": 15,
   "id": "2530a1e2",
   "metadata": {},
   "outputs": [
    {
     "data": {
      "text/html": [
       "<div>\n",
       "<style scoped>\n",
       "    .dataframe tbody tr th:only-of-type {\n",
       "        vertical-align: middle;\n",
       "    }\n",
       "\n",
       "    .dataframe tbody tr th {\n",
       "        vertical-align: top;\n",
       "    }\n",
       "\n",
       "    .dataframe thead th {\n",
       "        text-align: right;\n",
       "    }\n",
       "</style>\n",
       "<table border=\"1\" class=\"dataframe\">\n",
       "  <thead>\n",
       "    <tr style=\"text-align: right;\">\n",
       "      <th></th>\n",
       "      <th>show_id</th>\n",
       "      <th>title</th>\n",
       "      <th>listed_in</th>\n",
       "      <th>description</th>\n",
       "    </tr>\n",
       "  </thead>\n",
       "  <tbody>\n",
       "    <tr>\n",
       "      <th>0</th>\n",
       "      <td>s1</td>\n",
       "      <td>3%</td>\n",
       "      <td>International TV Shows, TV Dramas, TV Sci-Fi &amp;...</td>\n",
       "      <td>In a future where the elite inhabit an island ...</td>\n",
       "    </tr>\n",
       "    <tr>\n",
       "      <th>1</th>\n",
       "      <td>s2</td>\n",
       "      <td>7:19</td>\n",
       "      <td>Dramas, International Movies</td>\n",
       "      <td>After a devastating earthquake hits Mexico Cit...</td>\n",
       "    </tr>\n",
       "    <tr>\n",
       "      <th>2</th>\n",
       "      <td>s3</td>\n",
       "      <td>23:59</td>\n",
       "      <td>Horror Movies, International Movies</td>\n",
       "      <td>When an army recruit is found dead, his fellow...</td>\n",
       "    </tr>\n",
       "    <tr>\n",
       "      <th>3</th>\n",
       "      <td>s4</td>\n",
       "      <td>9</td>\n",
       "      <td>Action &amp; Adventure, Independent Movies, Sci-Fi...</td>\n",
       "      <td>In a postapocalyptic world, rag-doll robots hi...</td>\n",
       "    </tr>\n",
       "    <tr>\n",
       "      <th>4</th>\n",
       "      <td>s5</td>\n",
       "      <td>21</td>\n",
       "      <td>Dramas</td>\n",
       "      <td>A brilliant group of students become card-coun...</td>\n",
       "    </tr>\n",
       "  </tbody>\n",
       "</table>\n",
       "</div>"
      ],
      "text/plain": [
       "  show_id  title                                          listed_in  \\\n",
       "0      s1     3%  International TV Shows, TV Dramas, TV Sci-Fi &...   \n",
       "1      s2   7:19                       Dramas, International Movies   \n",
       "2      s3  23:59                Horror Movies, International Movies   \n",
       "3      s4      9  Action & Adventure, Independent Movies, Sci-Fi...   \n",
       "4      s5     21                                             Dramas   \n",
       "\n",
       "                                         description  \n",
       "0  In a future where the elite inhabit an island ...  \n",
       "1  After a devastating earthquake hits Mexico Cit...  \n",
       "2  When an army recruit is found dead, his fellow...  \n",
       "3  In a postapocalyptic world, rag-doll robots hi...  \n",
       "4  A brilliant group of students become card-coun...  "
      ]
     },
     "execution_count": 15,
     "metadata": {},
     "output_type": "execute_result"
    }
   ],
   "source": [
    "netflix_df.head()"
   ]
  },
  {
   "cell_type": "markdown",
   "id": "301e7e34",
   "metadata": {},
   "source": []
  },
  {
   "attachments": {
    "image.png": {
     "image/png": "[encoded data removed]"
    }
   },
   "cell_type": "markdown",
   "id": "ca13bfe6",
   "metadata": {},
   "source": [
    "- 처리결과\n",
    "![image.png](attachment:image.png)"
   ]
  },
  {
   "cell_type": "markdown",
   "id": "24423a25",
   "metadata": {},
   "source": [
    "### 형태소 분석 - 1\n",
    "- title, listed_in, description 컬럼에 있는 텍스트 데이터의 모든 단어를 소문자로 변경\n",
    "    - title 컬럼에 대한 형태소 분석 결과는 새로운 컬럼인 'title_list'로 생성\n",
    "- nltk (Natural Language Tookit)의 word_tokenize 함수를 활용하여 단어를 공백문자를 기준으로 분할한다\n",
    "- <font color='red'><b>[주의]</b></font>: 위 코드에서 분석에 필요한 컬럼만 추출해서 만든 DataFrame 객체의 변수 이름을 **netflix_df**로 한다."
   ]
  },
  {
   "cell_type": "code",
   "execution_count": 16,
   "id": "ed4b9777",
   "metadata": {},
   "outputs": [
    {
     "name": "stderr",
     "output_type": "stream",
     "text": [
      "[nltk_data] Downloading package stopwords to\n",
      "[nltk_data]     C:\\Users\\User\\AppData\\Roaming\\nltk_data...\n",
      "[nltk_data]   Package stopwords is already up-to-date!\n",
      "[nltk_data] Downloading package punkt to\n",
      "[nltk_data]     C:\\Users\\User\\AppData\\Roaming\\nltk_data...\n",
      "[nltk_data]   Package punkt is already up-to-date!\n"
     ]
    },
    {
     "data": {
      "text/plain": [
       "True"
      ]
     },
     "execution_count": 16,
     "metadata": {},
     "output_type": "execute_result"
    }
   ],
   "source": [
    "# 파이썬 경고 메세지 출력 안하기\n",
    "import warnings\n",
    "warnings.filterwarnings(action='ignore')\n",
    "\n",
    "import nltk\n",
    "# 구두점: 글의 여러 가지 경계를 구분하기 위해 사용되는 반점(,), 온점(.), 물음표(?), 쌍점( : ), 쌍반점(;), 줄표(--), 붙임표(-) 등의 부호\n",
    "# 불용어: 문장을 분석하는데 큰 의미가 없는 문자열\n",
    "nltk.download('stopwords') # 구두점 사전 다운로드\n",
    "nltk.download('punkt') # 불용어 사전 다운로드"
   ]
  },
  {
   "cell_type": "code",
   "execution_count": 17,
   "id": "8f4e1534",
   "metadata": {},
   "outputs": [],
   "source": [
    "netflix_df['title_list'] = netflix_df['title'].str.lower()\n",
    "netflix_df['listed_in']= netflix_df['listed_in'].str.lower()\n",
    "netflix_df['description']= netflix_df['description'].str.lower()"
   ]
  },
  {
   "cell_type": "code",
   "execution_count": 18,
   "id": "0af80ba2",
   "metadata": {},
   "outputs": [
    {
     "data": {
      "text/html": [
       "<div>\n",
       "<style scoped>\n",
       "    .dataframe tbody tr th:only-of-type {\n",
       "        vertical-align: middle;\n",
       "    }\n",
       "\n",
       "    .dataframe tbody tr th {\n",
       "        vertical-align: top;\n",
       "    }\n",
       "\n",
       "    .dataframe thead th {\n",
       "        text-align: right;\n",
       "    }\n",
       "</style>\n",
       "<table border=\"1\" class=\"dataframe\">\n",
       "  <thead>\n",
       "    <tr style=\"text-align: right;\">\n",
       "      <th></th>\n",
       "      <th>show_id</th>\n",
       "      <th>title</th>\n",
       "      <th>listed_in</th>\n",
       "      <th>description</th>\n",
       "      <th>title_list</th>\n",
       "    </tr>\n",
       "  </thead>\n",
       "  <tbody>\n",
       "    <tr>\n",
       "      <th>0</th>\n",
       "      <td>s1</td>\n",
       "      <td>3%</td>\n",
       "      <td>international tv shows, tv dramas, tv sci-fi &amp;...</td>\n",
       "      <td>in a future where the elite inhabit an island ...</td>\n",
       "      <td>3%</td>\n",
       "    </tr>\n",
       "    <tr>\n",
       "      <th>1</th>\n",
       "      <td>s2</td>\n",
       "      <td>7:19</td>\n",
       "      <td>dramas, international movies</td>\n",
       "      <td>after a devastating earthquake hits mexico cit...</td>\n",
       "      <td>7:19</td>\n",
       "    </tr>\n",
       "    <tr>\n",
       "      <th>2</th>\n",
       "      <td>s3</td>\n",
       "      <td>23:59</td>\n",
       "      <td>horror movies, international movies</td>\n",
       "      <td>when an army recruit is found dead, his fellow...</td>\n",
       "      <td>23:59</td>\n",
       "    </tr>\n",
       "    <tr>\n",
       "      <th>3</th>\n",
       "      <td>s4</td>\n",
       "      <td>9</td>\n",
       "      <td>action &amp; adventure, independent movies, sci-fi...</td>\n",
       "      <td>in a postapocalyptic world, rag-doll robots hi...</td>\n",
       "      <td>9</td>\n",
       "    </tr>\n",
       "    <tr>\n",
       "      <th>4</th>\n",
       "      <td>s5</td>\n",
       "      <td>21</td>\n",
       "      <td>dramas</td>\n",
       "      <td>a brilliant group of students become card-coun...</td>\n",
       "      <td>21</td>\n",
       "    </tr>\n",
       "  </tbody>\n",
       "</table>\n",
       "</div>"
      ],
      "text/plain": [
       "  show_id  title                                          listed_in  \\\n",
       "0      s1     3%  international tv shows, tv dramas, tv sci-fi &...   \n",
       "1      s2   7:19                       dramas, international movies   \n",
       "2      s3  23:59                horror movies, international movies   \n",
       "3      s4      9  action & adventure, independent movies, sci-fi...   \n",
       "4      s5     21                                             dramas   \n",
       "\n",
       "                                         description title_list  \n",
       "0  in a future where the elite inhabit an island ...         3%  \n",
       "1  after a devastating earthquake hits mexico cit...       7:19  \n",
       "2  when an army recruit is found dead, his fellow...      23:59  \n",
       "3  in a postapocalyptic world, rag-doll robots hi...          9  \n",
       "4  a brilliant group of students become card-coun...         21  "
      ]
     },
     "execution_count": 18,
     "metadata": {},
     "output_type": "execute_result"
    }
   ],
   "source": [
    "netflix_df.head()"
   ]
  },
  {
   "cell_type": "code",
   "execution_count": 19,
   "id": "eccc0d64",
   "metadata": {},
   "outputs": [
    {
     "data": {
      "text/plain": [
       "show_id        object\n",
       "title          object\n",
       "listed_in      object\n",
       "description    object\n",
       "title_list     object\n",
       "dtype: object"
      ]
     },
     "execution_count": 19,
     "metadata": {},
     "output_type": "execute_result"
    }
   ],
   "source": [
    "netflix_df.dtypes"
   ]
  },
  {
   "cell_type": "code",
   "execution_count": 20,
   "id": "143ad4d2",
   "metadata": {},
   "outputs": [],
   "source": [
    "major_columns = ['title_list', 'listed_in', 'description']"
   ]
  },
  {
   "cell_type": "code",
   "execution_count": 21,
   "id": "c08ee8a3",
   "metadata": {},
   "outputs": [],
   "source": [
    "for col in major_columns:\n",
    "    netflix_df[col]= netflix_df[col].apply(nltk.word_tokenize)"
   ]
  },
  {
   "cell_type": "code",
   "execution_count": 22,
   "id": "3e4701af",
   "metadata": {},
   "outputs": [
    {
     "data": {
      "text/html": [
       "<div>\n",
       "<style scoped>\n",
       "    .dataframe tbody tr th:only-of-type {\n",
       "        vertical-align: middle;\n",
       "    }\n",
       "\n",
       "    .dataframe tbody tr th {\n",
       "        vertical-align: top;\n",
       "    }\n",
       "\n",
       "    .dataframe thead th {\n",
       "        text-align: right;\n",
       "    }\n",
       "</style>\n",
       "<table border=\"1\" class=\"dataframe\">\n",
       "  <thead>\n",
       "    <tr style=\"text-align: right;\">\n",
       "      <th></th>\n",
       "      <th>show_id</th>\n",
       "      <th>title</th>\n",
       "      <th>listed_in</th>\n",
       "      <th>description</th>\n",
       "      <th>title_list</th>\n",
       "    </tr>\n",
       "  </thead>\n",
       "  <tbody>\n",
       "    <tr>\n",
       "      <th>0</th>\n",
       "      <td>s1</td>\n",
       "      <td>3%</td>\n",
       "      <td>[international, tv, shows, ,, tv, dramas, ,, t...</td>\n",
       "      <td>[in, a, future, where, the, elite, inhabit, an...</td>\n",
       "      <td>[3, %]</td>\n",
       "    </tr>\n",
       "    <tr>\n",
       "      <th>1</th>\n",
       "      <td>s2</td>\n",
       "      <td>7:19</td>\n",
       "      <td>[dramas, ,, international, movies]</td>\n",
       "      <td>[after, a, devastating, earthquake, hits, mexi...</td>\n",
       "      <td>[7:19]</td>\n",
       "    </tr>\n",
       "    <tr>\n",
       "      <th>2</th>\n",
       "      <td>s3</td>\n",
       "      <td>23:59</td>\n",
       "      <td>[horror, movies, ,, international, movies]</td>\n",
       "      <td>[when, an, army, recruit, is, found, dead, ,, ...</td>\n",
       "      <td>[23:59]</td>\n",
       "    </tr>\n",
       "    <tr>\n",
       "      <th>3</th>\n",
       "      <td>s4</td>\n",
       "      <td>9</td>\n",
       "      <td>[action, &amp;, adventure, ,, independent, movies,...</td>\n",
       "      <td>[in, a, postapocalyptic, world, ,, rag-doll, r...</td>\n",
       "      <td>[9]</td>\n",
       "    </tr>\n",
       "    <tr>\n",
       "      <th>4</th>\n",
       "      <td>s5</td>\n",
       "      <td>21</td>\n",
       "      <td>[dramas]</td>\n",
       "      <td>[a, brilliant, group, of, students, become, ca...</td>\n",
       "      <td>[21]</td>\n",
       "    </tr>\n",
       "  </tbody>\n",
       "</table>\n",
       "</div>"
      ],
      "text/plain": [
       "  show_id  title                                          listed_in  \\\n",
       "0      s1     3%  [international, tv, shows, ,, tv, dramas, ,, t...   \n",
       "1      s2   7:19                 [dramas, ,, international, movies]   \n",
       "2      s3  23:59         [horror, movies, ,, international, movies]   \n",
       "3      s4      9  [action, &, adventure, ,, independent, movies,...   \n",
       "4      s5     21                                           [dramas]   \n",
       "\n",
       "                                         description title_list  \n",
       "0  [in, a, future, where, the, elite, inhabit, an...     [3, %]  \n",
       "1  [after, a, devastating, earthquake, hits, mexi...     [7:19]  \n",
       "2  [when, an, army, recruit, is, found, dead, ,, ...    [23:59]  \n",
       "3  [in, a, postapocalyptic, world, ,, rag-doll, r...        [9]  \n",
       "4  [a, brilliant, group, of, students, become, ca...       [21]  "
      ]
     },
     "execution_count": 22,
     "metadata": {},
     "output_type": "execute_result"
    }
   ],
   "source": [
    "netflix_df.head()"
   ]
  },
  {
   "attachments": {
    "image.png": {
     "image/png": "[encoded data removed]"
    }
   },
   "cell_type": "markdown",
   "id": "23d0ecb0",
   "metadata": {},
   "source": [
    "- 처리결과\n",
    "![image.png](attachment:image.png)"
   ]
  },
  {
   "cell_type": "markdown",
   "id": "dbb5b902",
   "metadata": {},
   "source": [
    "### 형태소 분석 - 2\n",
    "- 단어별로 토큰 된 title_list, listed_in, description 컬럼 데이터 중 nltk 라이브러리의 stopwords 패키지를 활용하여 불용어(관사, 조사, 전치사 등 단어로서 의미가 없는 단어)를 제거한다."
   ]
  },
  {
   "cell_type": "code",
   "execution_count": 23,
   "id": "d8d55f38",
   "metadata": {},
   "outputs": [],
   "source": [
    "from nltk.corpus import stopwords\n",
    "from string import punctuation\n",
    "\n",
    "# list_stopwords: 구두점 및 불용어 목록\n",
    "list_stopwords = set(stopwords.words('english') + list(punctuation))\n",
    "\n",
    "# title, listed_in, description 컬럼 데이터에서 구두점 및 불용어 단어를 제거 코드 작성"
   ]
  },
  {
   "cell_type": "code",
   "execution_count": 24,
   "id": "22795c0a",
   "metadata": {},
   "outputs": [],
   "source": [
    "for col in major_columns:\n",
    "    netflix_df[col] = netflix_df[col].apply(\n",
    "        lambda x: [word for word in x if word not in list_stopwords])"
   ]
  },
  {
   "cell_type": "code",
   "execution_count": 25,
   "id": "0bc3edeb",
   "metadata": {},
   "outputs": [
    {
     "data": {
      "text/html": [
       "<div>\n",
       "<style scoped>\n",
       "    .dataframe tbody tr th:only-of-type {\n",
       "        vertical-align: middle;\n",
       "    }\n",
       "\n",
       "    .dataframe tbody tr th {\n",
       "        vertical-align: top;\n",
       "    }\n",
       "\n",
       "    .dataframe thead th {\n",
       "        text-align: right;\n",
       "    }\n",
       "</style>\n",
       "<table border=\"1\" class=\"dataframe\">\n",
       "  <thead>\n",
       "    <tr style=\"text-align: right;\">\n",
       "      <th></th>\n",
       "      <th>show_id</th>\n",
       "      <th>title</th>\n",
       "      <th>listed_in</th>\n",
       "      <th>description</th>\n",
       "      <th>title_list</th>\n",
       "    </tr>\n",
       "  </thead>\n",
       "  <tbody>\n",
       "    <tr>\n",
       "      <th>0</th>\n",
       "      <td>s1</td>\n",
       "      <td>3%</td>\n",
       "      <td>[international, tv, shows, tv, dramas, tv, sci...</td>\n",
       "      <td>[future, elite, inhabit, island, paradise, far...</td>\n",
       "      <td>[3]</td>\n",
       "    </tr>\n",
       "    <tr>\n",
       "      <th>1</th>\n",
       "      <td>s2</td>\n",
       "      <td>7:19</td>\n",
       "      <td>[dramas, international, movies]</td>\n",
       "      <td>[devastating, earthquake, hits, mexico, city, ...</td>\n",
       "      <td>[7:19]</td>\n",
       "    </tr>\n",
       "    <tr>\n",
       "      <th>2</th>\n",
       "      <td>s3</td>\n",
       "      <td>23:59</td>\n",
       "      <td>[horror, movies, international, movies]</td>\n",
       "      <td>[army, recruit, found, dead, fellow, soldiers,...</td>\n",
       "      <td>[23:59]</td>\n",
       "    </tr>\n",
       "    <tr>\n",
       "      <th>3</th>\n",
       "      <td>s4</td>\n",
       "      <td>9</td>\n",
       "      <td>[action, adventure, independent, movies, sci-f...</td>\n",
       "      <td>[postapocalyptic, world, rag-doll, robots, hid...</td>\n",
       "      <td>[9]</td>\n",
       "    </tr>\n",
       "    <tr>\n",
       "      <th>4</th>\n",
       "      <td>s5</td>\n",
       "      <td>21</td>\n",
       "      <td>[dramas]</td>\n",
       "      <td>[brilliant, group, students, become, card-coun...</td>\n",
       "      <td>[21]</td>\n",
       "    </tr>\n",
       "  </tbody>\n",
       "</table>\n",
       "</div>"
      ],
      "text/plain": [
       "  show_id  title                                          listed_in  \\\n",
       "0      s1     3%  [international, tv, shows, tv, dramas, tv, sci...   \n",
       "1      s2   7:19                    [dramas, international, movies]   \n",
       "2      s3  23:59            [horror, movies, international, movies]   \n",
       "3      s4      9  [action, adventure, independent, movies, sci-f...   \n",
       "4      s5     21                                           [dramas]   \n",
       "\n",
       "                                         description title_list  \n",
       "0  [future, elite, inhabit, island, paradise, far...        [3]  \n",
       "1  [devastating, earthquake, hits, mexico, city, ...     [7:19]  \n",
       "2  [army, recruit, found, dead, fellow, soldiers,...    [23:59]  \n",
       "3  [postapocalyptic, world, rag-doll, robots, hid...        [9]  \n",
       "4  [brilliant, group, students, become, card-coun...       [21]  "
      ]
     },
     "execution_count": 25,
     "metadata": {},
     "output_type": "execute_result"
    }
   ],
   "source": [
    "netflix_df.head()"
   ]
  },
  {
   "attachments": {
    "image.png": {
     "image/png": "[encoded data removed]"
    }
   },
   "cell_type": "markdown",
   "id": "6f22b1a3",
   "metadata": {},
   "source": [
    "- 처리결과\n",
    "![image.png](attachment:image.png)"
   ]
  },
  {
   "cell_type": "markdown",
   "id": "3dbd3e38",
   "metadata": {},
   "source": [
    "### <font color='red'> 형태소 분석 - 3 </font>\n",
    "- description 컬럼 데이터에 포함된 구두점을 제거한다."
   ]
  },
  {
   "cell_type": "code",
   "execution_count": 26,
   "id": "9e59025f",
   "metadata": {},
   "outputs": [
    {
     "data": {
      "text/plain": [
       "'!\"#$%&\\'()*+,-./:;<=>?@[\\\\]^_`{|}~'"
      ]
     },
     "execution_count": 26,
     "metadata": {},
     "output_type": "execute_result"
    }
   ],
   "source": [
    "import string\n",
    "\n",
    "# 구두점 목록\n",
    "string.punctuation"
   ]
  },
  {
   "cell_type": "code",
   "execution_count": 27,
   "id": "3fc6cd84",
   "metadata": {},
   "outputs": [],
   "source": [
    "import string\n",
    "\n",
    "netflix_df['description'] = netflix_df['description'].apply(lambda x : [word.translate(str.maketrans('', '', string.punctuation)) for word in x])"
   ]
  },
  {
   "cell_type": "markdown",
   "id": "b0198b0e",
   "metadata": {},
   "source": [
    "### 형태소 분석 - 4\n",
    "- title_list, listed_in, description 컬럼 데이터에 포함된 중복 단어를 제거한다. **(set() 함수 이용)**"
   ]
  },
  {
   "cell_type": "code",
   "execution_count": 28,
   "id": "a6c9b7f8",
   "metadata": {},
   "outputs": [],
   "source": [
    "for col in major_columns:\n",
    "    netflix_df[col] = netflix_df[col].apply(lambda x : set(word for word in x))"
   ]
  },
  {
   "cell_type": "code",
   "execution_count": 29,
   "id": "c10c1b78",
   "metadata": {},
   "outputs": [
    {
     "data": {
      "text/html": [
       "<div>\n",
       "<style scoped>\n",
       "    .dataframe tbody tr th:only-of-type {\n",
       "        vertical-align: middle;\n",
       "    }\n",
       "\n",
       "    .dataframe tbody tr th {\n",
       "        vertical-align: top;\n",
       "    }\n",
       "\n",
       "    .dataframe thead th {\n",
       "        text-align: right;\n",
       "    }\n",
       "</style>\n",
       "<table border=\"1\" class=\"dataframe\">\n",
       "  <thead>\n",
       "    <tr style=\"text-align: right;\">\n",
       "      <th></th>\n",
       "      <th>show_id</th>\n",
       "      <th>title</th>\n",
       "      <th>listed_in</th>\n",
       "      <th>description</th>\n",
       "      <th>title_list</th>\n",
       "    </tr>\n",
       "  </thead>\n",
       "  <tbody>\n",
       "    <tr>\n",
       "      <th>0</th>\n",
       "      <td>s1</td>\n",
       "      <td>3%</td>\n",
       "      <td>{international, dramas, tv, sci-fi, shows, fan...</td>\n",
       "      <td>{elite, join, 3, squalor, far, inhabit, slums,...</td>\n",
       "      <td>{3}</td>\n",
       "    </tr>\n",
       "    <tr>\n",
       "      <th>1</th>\n",
       "      <td>s2</td>\n",
       "      <td>7:19</td>\n",
       "      <td>{dramas, international, movies}</td>\n",
       "      <td>{mexico, walks, rescued, stay, trapped, wait, ...</td>\n",
       "      <td>{7:19}</td>\n",
       "    </tr>\n",
       "    <tr>\n",
       "      <th>2</th>\n",
       "      <td>s3</td>\n",
       "      <td>23:59</td>\n",
       "      <td>{international, movies, horror}</td>\n",
       "      <td>{s, dead, fellow, terrifying, secret, training...</td>\n",
       "      <td>{23:59}</td>\n",
       "    </tr>\n",
       "    <tr>\n",
       "      <th>3</th>\n",
       "      <td>s4</td>\n",
       "      <td>9</td>\n",
       "      <td>{adventure, movies, independent, sci-fi, actio...</td>\n",
       "      <td>{hide, robots, fear, dangerous, world, brave, ...</td>\n",
       "      <td>{9}</td>\n",
       "    </tr>\n",
       "    <tr>\n",
       "      <th>4</th>\n",
       "      <td>s5</td>\n",
       "      <td>21</td>\n",
       "      <td>{dramas}</td>\n",
       "      <td>{las, playing, vegas, experts, millions, becom...</td>\n",
       "      <td>{21}</td>\n",
       "    </tr>\n",
       "  </tbody>\n",
       "</table>\n",
       "</div>"
      ],
      "text/plain": [
       "  show_id  title                                          listed_in  \\\n",
       "0      s1     3%  {international, dramas, tv, sci-fi, shows, fan...   \n",
       "1      s2   7:19                    {dramas, international, movies}   \n",
       "2      s3  23:59                    {international, movies, horror}   \n",
       "3      s4      9  {adventure, movies, independent, sci-fi, actio...   \n",
       "4      s5     21                                           {dramas}   \n",
       "\n",
       "                                         description title_list  \n",
       "0  {elite, join, 3, squalor, far, inhabit, slums,...        {3}  \n",
       "1  {mexico, walks, rescued, stay, trapped, wait, ...     {7:19}  \n",
       "2  {s, dead, fellow, terrifying, secret, training...    {23:59}  \n",
       "3  {hide, robots, fear, dangerous, world, brave, ...        {9}  \n",
       "4  {las, playing, vegas, experts, millions, becom...       {21}  "
      ]
     },
     "execution_count": 29,
     "metadata": {},
     "output_type": "execute_result"
    }
   ],
   "source": [
    "netflix_df.head()"
   ]
  },
  {
   "cell_type": "markdown",
   "id": "56195460",
   "metadata": {},
   "source": [
    "# 콘텐츠 유사도 측정"
   ]
  },
  {
   "cell_type": "markdown",
   "id": "60df53ad",
   "metadata": {},
   "source": [
    "## 피처 벡터화\n",
    "- title_list, listed_in, description 컬럼의 각 단어를 공백문자로 구분되는 문자열로 변환하여 카운트 기반으로 피처 벡터화 한다.**(CountVectorizer 이용)**\n",
    "- title_list, listed_in, description 각 컬럼의 피처 벡터화한 결과를 **matrix_netflix_vocab = []** 리스트에 저장한다."
   ]
  },
  {
   "cell_type": "code",
   "execution_count": 30,
   "id": "57da9246",
   "metadata": {},
   "outputs": [],
   "source": [
    "matrix_netflix_vocab = [] "
   ]
  },
  {
   "cell_type": "code",
   "execution_count": 31,
   "id": "b17f58b2",
   "metadata": {},
   "outputs": [],
   "source": [
    "for col in major_columns:\n",
    "    netflix_df[col] = netflix_df[col].apply(lambda x : (' ').join(x))"
   ]
  },
  {
   "cell_type": "code",
   "execution_count": 32,
   "id": "033c1a80",
   "metadata": {},
   "outputs": [
    {
     "data": {
      "text/html": [
       "<div>\n",
       "<style scoped>\n",
       "    .dataframe tbody tr th:only-of-type {\n",
       "        vertical-align: middle;\n",
       "    }\n",
       "\n",
       "    .dataframe tbody tr th {\n",
       "        vertical-align: top;\n",
       "    }\n",
       "\n",
       "    .dataframe thead th {\n",
       "        text-align: right;\n",
       "    }\n",
       "</style>\n",
       "<table border=\"1\" class=\"dataframe\">\n",
       "  <thead>\n",
       "    <tr style=\"text-align: right;\">\n",
       "      <th></th>\n",
       "      <th>show_id</th>\n",
       "      <th>title</th>\n",
       "      <th>listed_in</th>\n",
       "      <th>description</th>\n",
       "      <th>title_list</th>\n",
       "    </tr>\n",
       "  </thead>\n",
       "  <tbody>\n",
       "    <tr>\n",
       "      <th>0</th>\n",
       "      <td>s1</td>\n",
       "      <td>3%</td>\n",
       "      <td>international dramas tv sci-fi shows fantasy</td>\n",
       "      <td>elite join 3 squalor far inhabit slums paradis...</td>\n",
       "      <td>3</td>\n",
       "    </tr>\n",
       "    <tr>\n",
       "      <th>1</th>\n",
       "      <td>s2</td>\n",
       "      <td>7:19</td>\n",
       "      <td>dramas international movies</td>\n",
       "      <td>mexico walks rescued stay trapped wait devasta...</td>\n",
       "      <td>7:19</td>\n",
       "    </tr>\n",
       "    <tr>\n",
       "      <th>2</th>\n",
       "      <td>s3</td>\n",
       "      <td>23:59</td>\n",
       "      <td>international movies horror</td>\n",
       "      <td>s dead fellow terrifying secret training camp ...</td>\n",
       "      <td>23:59</td>\n",
       "    </tr>\n",
       "    <tr>\n",
       "      <th>3</th>\n",
       "      <td>s4</td>\n",
       "      <td>9</td>\n",
       "      <td>adventure movies independent sci-fi action fan...</td>\n",
       "      <td>hide robots fear dangerous world brave newcome...</td>\n",
       "      <td>9</td>\n",
       "    </tr>\n",
       "    <tr>\n",
       "      <th>4</th>\n",
       "      <td>s5</td>\n",
       "      <td>21</td>\n",
       "      <td>dramas</td>\n",
       "      <td>las playing vegas experts millions become stud...</td>\n",
       "      <td>21</td>\n",
       "    </tr>\n",
       "  </tbody>\n",
       "</table>\n",
       "</div>"
      ],
      "text/plain": [
       "  show_id  title                                          listed_in  \\\n",
       "0      s1     3%       international dramas tv sci-fi shows fantasy   \n",
       "1      s2   7:19                        dramas international movies   \n",
       "2      s3  23:59                        international movies horror   \n",
       "3      s4      9  adventure movies independent sci-fi action fan...   \n",
       "4      s5     21                                             dramas   \n",
       "\n",
       "                                         description title_list  \n",
       "0  elite join 3 squalor far inhabit slums paradis...          3  \n",
       "1  mexico walks rescued stay trapped wait devasta...       7:19  \n",
       "2  s dead fellow terrifying secret training camp ...      23:59  \n",
       "3  hide robots fear dangerous world brave newcome...          9  \n",
       "4  las playing vegas experts millions become stud...         21  "
      ]
     },
     "execution_count": 32,
     "metadata": {},
     "output_type": "execute_result"
    }
   ],
   "source": [
    "netflix_df.head()"
   ]
  },
  {
   "cell_type": "code",
   "execution_count": 33,
   "id": "2f2bd85b",
   "metadata": {
    "run_control": {
     "marked": true
    }
   },
   "outputs": [],
   "source": [
    "from sklearn.feature_extraction.text import CountVectorizer"
   ]
  },
  {
   "cell_type": "code",
   "execution_count": 34,
   "id": "c7f2c449",
   "metadata": {},
   "outputs": [],
   "source": [
    "for col in major_columns:\n",
    "    matrix_netflix_vocab.append(CountVectorizer(ngram_range=(1, 1), min_df=0).fit_transform(netflix_df[col]).toarray())"
   ]
  },
  {
   "cell_type": "code",
   "execution_count": 35,
   "id": "e15aa426",
   "metadata": {},
   "outputs": [
    {
     "data": {
      "text/plain": [
       "[array([[0, 0, 0, ..., 0, 0, 0],\n",
       "        [0, 0, 0, ..., 0, 0, 0],\n",
       "        [0, 0, 0, ..., 0, 0, 0],\n",
       "        ...,\n",
       "        [0, 0, 0, ..., 0, 0, 0],\n",
       "        [0, 0, 0, ..., 0, 0, 0],\n",
       "        [0, 0, 0, ..., 0, 0, 0]], dtype=int64),\n",
       " array([[0, 0, 0, ..., 0, 1, 0],\n",
       "        [0, 0, 0, ..., 0, 0, 0],\n",
       "        [0, 0, 0, ..., 0, 0, 0],\n",
       "        ...,\n",
       "        [0, 0, 0, ..., 0, 0, 0],\n",
       "        [0, 0, 0, ..., 0, 1, 0],\n",
       "        [0, 0, 0, ..., 0, 0, 0]], dtype=int64),\n",
       " array([[0, 0, 0, ..., 0, 0, 0],\n",
       "        [0, 0, 0, ..., 0, 0, 0],\n",
       "        [0, 0, 0, ..., 0, 0, 0],\n",
       "        ...,\n",
       "        [0, 0, 0, ..., 0, 0, 0],\n",
       "        [0, 0, 0, ..., 0, 0, 0],\n",
       "        [0, 0, 0, ..., 0, 0, 0]], dtype=int64)]"
      ]
     },
     "execution_count": 35,
     "metadata": {},
     "output_type": "execute_result"
    }
   ],
   "source": [
    "matrix_netflix_vocab"
   ]
  },
  {
   "cell_type": "markdown",
   "id": "af501997",
   "metadata": {},
   "source": [
    "## 코사인 유사도\n",
    "- title_list, listed_in, description 각 컬럼에 대해 피처 백터화 한 값을 이용하여 각각의 코사인 유사도를 산출하여 **matrix_netflix_sim = []** 리스트에 저장한다."
   ]
  },
  {
   "cell_type": "code",
   "execution_count": 36,
   "id": "cc219de8",
   "metadata": {},
   "outputs": [],
   "source": [
    "from sklearn.metrics.pairwise import cosine_similarity"
   ]
  },
  {
   "cell_type": "code",
   "execution_count": 37,
   "id": "f21dd5aa",
   "metadata": {
    "run_control": {
     "marked": true
    }
   },
   "outputs": [],
   "source": [
    "matrix_netflix_sim = []"
   ]
  },
  {
   "cell_type": "code",
   "execution_count": 38,
   "id": "814e5c87",
   "metadata": {},
   "outputs": [],
   "source": [
    "for i in range(3):\n",
    "    matrix_netflix_sim.append(cosine_similarity(matrix_netflix_vocab[i]))"
   ]
  },
  {
   "cell_type": "code",
   "execution_count": 39,
   "id": "7a3c85d6",
   "metadata": {},
   "outputs": [
    {
     "data": {
      "text/plain": [
       "[array([[0., 0., 0., ..., 0., 0., 0.],\n",
       "        [0., 1., 0., ..., 0., 0., 0.],\n",
       "        [0., 0., 1., ..., 0., 0., 0.],\n",
       "        ...,\n",
       "        [0., 0., 0., ..., 1., 0., 0.],\n",
       "        [0., 0., 0., ..., 0., 1., 0.],\n",
       "        [0., 0., 0., ..., 0., 0., 1.]]),\n",
       " array([[1.        , 0.43643578, 0.21821789, ..., 0.16903085, 0.56694671,\n",
       "         0.        ],\n",
       "        [0.43643578, 1.        , 0.66666667, ..., 0.51639778, 0.28867513,\n",
       "         0.        ],\n",
       "        [0.21821789, 0.66666667, 1.        , ..., 0.51639778, 0.28867513,\n",
       "         0.        ],\n",
       "        ...,\n",
       "        [0.16903085, 0.51639778, 0.51639778, ..., 1.        , 0.2236068 ,\n",
       "         0.77459667],\n",
       "        [0.56694671, 0.28867513, 0.28867513, ..., 0.2236068 , 1.        ,\n",
       "         0.        ],\n",
       "        [0.        , 0.        , 0.        , ..., 0.77459667, 0.        ,\n",
       "         1.        ]]),\n",
       " array([[1.        , 0.        , 0.06900656, ..., 0.        , 0.        ,\n",
       "         0.        ],\n",
       "        [0.        , 1.        , 0.        , ..., 0.13801311, 0.        ,\n",
       "         0.        ],\n",
       "        [0.06900656, 0.        , 1.        , ..., 0.        , 0.        ,\n",
       "         0.        ],\n",
       "        ...,\n",
       "        [0.        , 0.13801311, 0.        , ..., 1.        , 0.        ,\n",
       "         0.07412493],\n",
       "        [0.        , 0.        , 0.        , ..., 0.        , 1.        ,\n",
       "         0.        ],\n",
       "        [0.        , 0.        , 0.        , ..., 0.07412493, 0.        ,\n",
       "         1.        ]])]"
      ]
     },
     "execution_count": 39,
     "metadata": {},
     "output_type": "execute_result"
    }
   ],
   "source": [
    "matrix_netflix_sim"
   ]
  },
  {
   "cell_type": "markdown",
   "id": "621230d4",
   "metadata": {},
   "source": [
    "- title_list, listed_in, description에 대해 각각 유사도가 높은 순으로 정렬한 콘텐츠의 인덱스를 **netflix_sim_sorted_ind = []** 리스트에 저장한다."
   ]
  },
  {
   "cell_type": "code",
   "execution_count": 40,
   "id": "491546db",
   "metadata": {},
   "outputs": [],
   "source": [
    "netflix_sim_sorted_ind = []"
   ]
  },
  {
   "cell_type": "code",
   "execution_count": 41,
   "id": "3daf0758",
   "metadata": {},
   "outputs": [],
   "source": [
    "for i in range(3):\n",
    "    netflix_sim_sorted_ind.append(matrix_netflix_sim[i].argsort()[:,::-1])"
   ]
  },
  {
   "cell_type": "code",
   "execution_count": 42,
   "id": "4a3a8be4",
   "metadata": {
    "scrolled": true
   },
   "outputs": [
    {
     "data": {
      "text/plain": [
       "[array([[7786, 2615, 2587, ..., 5197, 5198,    0],\n",
       "        [   1, 3262, 7786, ..., 5197, 5198,    0],\n",
       "        [   2, 3154, 7786, ..., 5197, 5198,    0],\n",
       "        ...,\n",
       "        [7784, 3893, 3897, ..., 5187, 5188,    0],\n",
       "        [7785, 2615, 2587, ..., 5197, 5198,    0],\n",
       "        [7786, 5857,  716, ..., 5189, 5190,    0]], dtype=int64),\n",
       " array([[   0,  931, 1736, ..., 4116, 1995, 7786],\n",
       "        [5318, 6509, 6497, ..., 3618, 3606, 3893],\n",
       "        [1573, 4376,    8, ..., 3934, 3933, 3893],\n",
       "        ...,\n",
       "        [1989, 3196, 4772, ..., 1499, 4011, 3893],\n",
       "        [6224,  994, 4387, ..., 3420, 7000, 7786],\n",
       "        [7786, 1801, 4628, ..., 5030, 5031,    0]], dtype=int64),\n",
       " array([[   0, 6023, 5821, ..., 5045, 5046, 3893],\n",
       "        [   1, 6269, 5529, ..., 5007, 5008,    0],\n",
       "        [   2, 3377, 1190, ..., 5098, 5100, 3893],\n",
       "        ...,\n",
       "        [7784, 7291, 4015, ..., 5077, 5078,    0],\n",
       "        [7785, 3004, 4387, ..., 5121, 5123,    0],\n",
       "        [7786, 4510, 5280, ..., 5078, 5079,    0]], dtype=int64)]"
      ]
     },
     "execution_count": 42,
     "metadata": {},
     "output_type": "execute_result"
    }
   ],
   "source": [
    "netflix_sim_sorted_ind"
   ]
  },
  {
   "cell_type": "markdown",
   "id": "9c62bdd6",
   "metadata": {},
   "source": [
    "# 유사도 필터링을 이용한 넷플릭스 콘텐츠 추천"
   ]
  },
  {
   "cell_type": "markdown",
   "id": "d693e76d",
   "metadata": {},
   "source": [
    "- 추천 기준이 되는 콘텐츠의 제목으로 해당 콘텐츠 레코드를 추출한다.\n",
    "- 추출된 콘텐츠의 인덱스 (netflix_df 데이터 프레임에서의 레코드 위치)를 추출한다.\n",
    "- 해당 인덱스로 sorted_ind_list 인자로 입력된 netflix_sim_sorted_ind 객체에서 각 컬럼별 유사도 순으로 top_n 개의 index를 추출한 후 리스트에 저장한다.\n",
    "- find_sim_netflix 함수 매개변수\n",
    "    - df: 넷플릭스 콘텐츠 정보 DataFrame\n",
    "    - sorted_ind_list: title_list, listed_in, description에 대해 각각 유사도가 높은 순으로 정렬한 콘텐츠의 인덱스 행렬을 저장한 리스트\n",
    "    - title_name: 추천 기준이 되는 콘텐츠 제목 (해당 콘텐츠와 장르 유사도가 높은 콘텐츠를 추천)\n",
    "    - top_n: 추천 콘텐츠 건수"
   ]
  },
  {
   "cell_type": "code",
   "execution_count": 43,
   "id": "97a3ec71",
   "metadata": {},
   "outputs": [
    {
     "data": {
      "text/html": [
       "<div>\n",
       "<style scoped>\n",
       "    .dataframe tbody tr th:only-of-type {\n",
       "        vertical-align: middle;\n",
       "    }\n",
       "\n",
       "    .dataframe tbody tr th {\n",
       "        vertical-align: top;\n",
       "    }\n",
       "\n",
       "    .dataframe thead th {\n",
       "        text-align: right;\n",
       "    }\n",
       "</style>\n",
       "<table border=\"1\" class=\"dataframe\">\n",
       "  <thead>\n",
       "    <tr style=\"text-align: right;\">\n",
       "      <th></th>\n",
       "      <th>show_id</th>\n",
       "      <th>title</th>\n",
       "      <th>listed_in</th>\n",
       "      <th>description</th>\n",
       "      <th>title_list</th>\n",
       "    </tr>\n",
       "  </thead>\n",
       "  <tbody>\n",
       "    <tr>\n",
       "      <th>0</th>\n",
       "      <td>s1</td>\n",
       "      <td>3%</td>\n",
       "      <td>international dramas tv sci-fi shows fantasy</td>\n",
       "      <td>elite join 3 squalor far inhabit slums paradis...</td>\n",
       "      <td>3</td>\n",
       "    </tr>\n",
       "    <tr>\n",
       "      <th>1</th>\n",
       "      <td>s2</td>\n",
       "      <td>7:19</td>\n",
       "      <td>dramas international movies</td>\n",
       "      <td>mexico walks rescued stay trapped wait devasta...</td>\n",
       "      <td>7:19</td>\n",
       "    </tr>\n",
       "    <tr>\n",
       "      <th>2</th>\n",
       "      <td>s3</td>\n",
       "      <td>23:59</td>\n",
       "      <td>international movies horror</td>\n",
       "      <td>s dead fellow terrifying secret training camp ...</td>\n",
       "      <td>23:59</td>\n",
       "    </tr>\n",
       "    <tr>\n",
       "      <th>3</th>\n",
       "      <td>s4</td>\n",
       "      <td>9</td>\n",
       "      <td>adventure movies independent sci-fi action fan...</td>\n",
       "      <td>hide robots fear dangerous world brave newcome...</td>\n",
       "      <td>9</td>\n",
       "    </tr>\n",
       "    <tr>\n",
       "      <th>4</th>\n",
       "      <td>s5</td>\n",
       "      <td>21</td>\n",
       "      <td>dramas</td>\n",
       "      <td>las playing vegas experts millions become stud...</td>\n",
       "      <td>21</td>\n",
       "    </tr>\n",
       "  </tbody>\n",
       "</table>\n",
       "</div>"
      ],
      "text/plain": [
       "  show_id  title                                          listed_in  \\\n",
       "0      s1     3%       international dramas tv sci-fi shows fantasy   \n",
       "1      s2   7:19                        dramas international movies   \n",
       "2      s3  23:59                        international movies horror   \n",
       "3      s4      9  adventure movies independent sci-fi action fan...   \n",
       "4      s5     21                                             dramas   \n",
       "\n",
       "                                         description title_list  \n",
       "0  elite join 3 squalor far inhabit slums paradis...          3  \n",
       "1  mexico walks rescued stay trapped wait devasta...       7:19  \n",
       "2  s dead fellow terrifying secret training camp ...      23:59  \n",
       "3  hide robots fear dangerous world brave newcome...          9  \n",
       "4  las playing vegas experts millions become stud...         21  "
      ]
     },
     "execution_count": 43,
     "metadata": {},
     "output_type": "execute_result"
    }
   ],
   "source": [
    "netflix_df.head()"
   ]
  },
  {
   "cell_type": "code",
   "execution_count": 44,
   "id": "1b9e4a42",
   "metadata": {},
   "outputs": [],
   "source": [
    "def find_sim_netflix(df, sorted_ind_list, title_name, top_n=10):\n",
    "\n",
    "    title_idx = df[df['title'] == title_name].index\n",
    "\n",
    "    # 각 컬럼별 유사도 순으로 top_n 개의 index를 추출한 행렬을 저장할 리스트\n",
    "    similar_indexes_list = []\n",
    "\n",
    "    for i in range(len(sorted_ind_list)):\n",
    "        similar_indexes_list.append(sorted_ind_list[i][title_idx, :top_n])\n",
    "\n",
    "    # 데이터 프레임의 인덱스 값으로 사용하기 위해 1차원 데이터로 변환한다.\n",
    "    return df.iloc[np.array(similar_indexes_list).flatten()]"
   ]
  },
  {
   "cell_type": "code",
   "execution_count": 45,
   "id": "70217d19",
   "metadata": {},
   "outputs": [],
   "source": [
    "# '응답하라 1988' 과 제목, 장르, 줄거리가 유사한 콘텐츠를 각각 10개씩 추천\n",
    "similar_netflix = find_sim_netflix(netflix_df, netflix_sim_sorted_ind, 'Reply 1988',10)"
   ]
  },
  {
   "cell_type": "code",
   "execution_count": 46,
   "id": "9a48027a",
   "metadata": {},
   "outputs": [
    {
     "data": {
      "text/html": [
       "<div>\n",
       "<style scoped>\n",
       "    .dataframe tbody tr th:only-of-type {\n",
       "        vertical-align: middle;\n",
       "    }\n",
       "\n",
       "    .dataframe tbody tr th {\n",
       "        vertical-align: top;\n",
       "    }\n",
       "\n",
       "    .dataframe thead th {\n",
       "        text-align: right;\n",
       "    }\n",
       "</style>\n",
       "<table border=\"1\" class=\"dataframe\">\n",
       "  <thead>\n",
       "    <tr style=\"text-align: right;\">\n",
       "      <th></th>\n",
       "      <th>title</th>\n",
       "    </tr>\n",
       "  </thead>\n",
       "  <tbody>\n",
       "    <tr>\n",
       "      <th>5161</th>\n",
       "      <td>Reply 1988</td>\n",
       "    </tr>\n",
       "    <tr>\n",
       "      <th>5162</th>\n",
       "      <td>Reply 1994</td>\n",
       "    </tr>\n",
       "    <tr>\n",
       "      <th>5163</th>\n",
       "      <td>Reply 1997</td>\n",
       "    </tr>\n",
       "    <tr>\n",
       "      <th>2599</th>\n",
       "      <td>Hannah Gadsby: Nanette</td>\n",
       "    </tr>\n",
       "    <tr>\n",
       "      <th>2598</th>\n",
       "      <td>Hannah Gadsby: Douglas</td>\n",
       "    </tr>\n",
       "    <tr>\n",
       "      <th>2597</th>\n",
       "      <td>Hank: Five Years from the Brink</td>\n",
       "    </tr>\n",
       "    <tr>\n",
       "      <th>2596</th>\n",
       "      <td>Hangman</td>\n",
       "    </tr>\n",
       "    <tr>\n",
       "      <th>2595</th>\n",
       "      <td>Hangar 1: The UFO Files</td>\n",
       "    </tr>\n",
       "    <tr>\n",
       "      <th>2594</th>\n",
       "      <td>Handsome: A Netflix Mystery Movie</td>\n",
       "    </tr>\n",
       "    <tr>\n",
       "      <th>7786</th>\n",
       "      <td>ZZ TOP: THAT LITTLE OL' BAND FROM TEXAS</td>\n",
       "    </tr>\n",
       "    <tr>\n",
       "      <th>2695</th>\n",
       "      <td>Hello, My Twenties!</td>\n",
       "    </tr>\n",
       "    <tr>\n",
       "      <th>3265</th>\n",
       "      <td>K-POP Extreme Survival</td>\n",
       "    </tr>\n",
       "    <tr>\n",
       "      <th>4349</th>\n",
       "      <td>My Runway</td>\n",
       "    </tr>\n",
       "    <tr>\n",
       "      <th>544</th>\n",
       "      <td>Another Miss Oh</td>\n",
       "    </tr>\n",
       "    <tr>\n",
       "      <th>7486</th>\n",
       "      <td>Was It Love?</td>\n",
       "    </tr>\n",
       "    <tr>\n",
       "      <th>4350</th>\n",
       "      <td>My Sassy Girl</td>\n",
       "    </tr>\n",
       "    <tr>\n",
       "      <th>4353</th>\n",
       "      <td>My Secret Romance</td>\n",
       "    </tr>\n",
       "    <tr>\n",
       "      <th>4354</th>\n",
       "      <td>My Shy Boss</td>\n",
       "    </tr>\n",
       "    <tr>\n",
       "      <th>2714</th>\n",
       "      <td>Hi Bye, Mama!</td>\n",
       "    </tr>\n",
       "    <tr>\n",
       "      <th>5273</th>\n",
       "      <td>Rookie Historian Goo Hae-Ryung</td>\n",
       "    </tr>\n",
       "    <tr>\n",
       "      <th>5161</th>\n",
       "      <td>Reply 1988</td>\n",
       "    </tr>\n",
       "    <tr>\n",
       "      <th>7314</th>\n",
       "      <td>Unaccompanied Minors</td>\n",
       "    </tr>\n",
       "    <tr>\n",
       "      <th>1192</th>\n",
       "      <td>Can You Hear Me?</td>\n",
       "    </tr>\n",
       "    <tr>\n",
       "      <th>4372</th>\n",
       "      <td>Mystic Pizza</td>\n",
       "    </tr>\n",
       "    <tr>\n",
       "      <th>1863</th>\n",
       "      <td>Dream Boat</td>\n",
       "    </tr>\n",
       "    <tr>\n",
       "      <th>4129</th>\n",
       "      <td>Misfit</td>\n",
       "    </tr>\n",
       "    <tr>\n",
       "      <th>195</th>\n",
       "      <td>A Lion in the House</td>\n",
       "    </tr>\n",
       "    <tr>\n",
       "      <th>542</th>\n",
       "      <td>Another Forever</td>\n",
       "    </tr>\n",
       "    <tr>\n",
       "      <th>3170</th>\n",
       "      <td>Jim Gaffigan: Obsessed</td>\n",
       "    </tr>\n",
       "    <tr>\n",
       "      <th>2182</th>\n",
       "      <td>First Kill</td>\n",
       "    </tr>\n",
       "  </tbody>\n",
       "</table>\n",
       "</div>"
      ],
      "text/plain": [
       "                                        title\n",
       "5161                               Reply 1988\n",
       "5162                               Reply 1994\n",
       "5163                               Reply 1997\n",
       "2599                   Hannah Gadsby: Nanette\n",
       "2598                   Hannah Gadsby: Douglas\n",
       "2597          Hank: Five Years from the Brink\n",
       "2596                                  Hangman\n",
       "2595                  Hangar 1: The UFO Files\n",
       "2594        Handsome: A Netflix Mystery Movie\n",
       "7786  ZZ TOP: THAT LITTLE OL' BAND FROM TEXAS\n",
       "2695                      Hello, My Twenties!\n",
       "3265                   K-POP Extreme Survival\n",
       "4349                                My Runway\n",
       "544                           Another Miss Oh\n",
       "7486                             Was It Love?\n",
       "4350                            My Sassy Girl\n",
       "4353                        My Secret Romance\n",
       "4354                              My Shy Boss\n",
       "2714                            Hi Bye, Mama!\n",
       "5273           Rookie Historian Goo Hae-Ryung\n",
       "5161                               Reply 1988\n",
       "7314                     Unaccompanied Minors\n",
       "1192                         Can You Hear Me?\n",
       "4372                             Mystic Pizza\n",
       "1863                               Dream Boat\n",
       "4129                                   Misfit\n",
       "195                       A Lion in the House\n",
       "542                           Another Forever\n",
       "3170                   Jim Gaffigan: Obsessed\n",
       "2182                               First Kill"
      ]
     },
     "execution_count": 46,
     "metadata": {},
     "output_type": "execute_result"
    }
   ],
   "source": [
    "similar_netflix[['title']]"
   ]
  }
 ],
 "metadata": {
  "kernelspec": {
   "display_name": "Python 3 (ipykernel)",
   "language": "python",
   "name": "python3"
  },
  "language_info": {
   "codemirror_mode": {
    "name": "ipython",
    "version": 3
   },
   "file_extension": ".py",
   "mimetype": "text/x-python",
   "name": "python",
   "nbconvert_exporter": "python",
   "pygments_lexer": "ipython3",
   "version": "3.9.13"
  },
  "toc": {
   "base_numbering": 1,
   "nav_menu": {},
   "number_sections": true,
   "sideBar": true,
   "skip_h1_title": false,
   "title_cell": "Table of Contents",
   "title_sidebar": "Contents",
   "toc_cell": false,
   "toc_position": {
    "height": "calc(100% - 180px)",
    "left": "10px",
    "top": "150px",
    "width": "384px"
   },
   "toc_section_display": true,
   "toc_window_display": true
  }
 },
 "nbformat": 4,
 "nbformat_minor": 5
}
