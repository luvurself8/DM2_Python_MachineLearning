{
 "cells": [
  {
   "cell_type": "markdown",
   "id": "b38a3be5",
   "metadata": {},
   "source": [
    "# 공분산 행렬 구하기"
   ]
  },
  {
   "cell_type": "code",
   "execution_count": 1,
   "id": "3caed8f4",
   "metadata": {},
   "outputs": [],
   "source": [
    "import numpy as np\n",
    "np.set_printoptions(suppress=True, precision=2)"
   ]
  },
  {
   "cell_type": "code",
   "execution_count": 26,
   "id": "01445f4f",
   "metadata": {},
   "outputs": [
    {
     "name": "stdout",
     "output_type": "stream",
     "text": [
      "[[177.7  68.1  91.8]\n",
      " [168.   60.2  89.3]\n",
      " [165.3  49.1  84.9]\n",
      " [159.1  42.   86.3]\n",
      " [176.4  73.3  93.8]\n",
      " [176.   57.2  92.5]\n",
      " [170.   59.8  89.8]\n",
      " [164.6  51.6  88.5]\n",
      " [174.4  70.2  91.7]\n",
      " [174.8  58.8  91.6]]\n"
     ]
    }
   ],
   "source": [
    "x = [[177.7, 68.1, 91.8], [168, 60.2, 89.3], [165.3, 49.1, 84.9], [159.1, 42, 86.3], [176.4, 73.3, 93.8],\n",
    "     [176, 57.2, 92.5], [170, 59.8, 89.8], [164.6, 51.6, 88.5], [174.4, 70.2, 91.7], [174.8, 58.8, 91.6]]\n",
    "X = np.array(x)\n",
    "print(X)"
   ]
  },
  {
   "cell_type": "code",
   "execution_count": 27,
   "id": "672cfa10",
   "metadata": {},
   "outputs": [
    {
     "name": "stdout",
     "output_type": "stream",
     "text": [
      "키 컬럼 분산 : 38.75\n"
     ]
    }
   ],
   "source": [
    "print(f'키 컬럼 분산 : {np.var(X[:,0],ddof=1):.2f}')"
   ]
  },
  {
   "cell_type": "code",
   "execution_count": 28,
   "id": "dcc4565f",
   "metadata": {},
   "outputs": [
    {
     "data": {
      "text/plain": [
       "array([170.63,  59.03,  90.02])"
      ]
     },
     "execution_count": 28,
     "metadata": {},
     "output_type": "execute_result"
    }
   ],
   "source": [
    "np.mean(X,axis=0)"
   ]
  },
  {
   "cell_type": "code",
   "execution_count": 29,
   "id": "927a811c",
   "metadata": {},
   "outputs": [
    {
     "name": "stdout",
     "output_type": "stream",
     "text": [
      "[[  7.07   9.07   1.78]\n",
      " [ -2.63   1.17  -0.72]\n",
      " [ -5.33  -9.93  -5.12]\n",
      " [-11.53 -17.03  -3.72]\n",
      " [  5.77  14.27   3.78]\n",
      " [  5.37  -1.83   2.48]\n",
      " [ -0.63   0.77  -0.22]\n",
      " [ -6.03  -7.43  -1.52]\n",
      " [  3.77  11.17   1.68]\n",
      " [  4.17  -0.23   1.58]]\n"
     ]
    }
   ],
   "source": [
    "# 데이터 분포의 중심을 중심축으로 이동시키기 위해 행렬의 각 열들의 평균값을 0으로 맞춘다.\n",
    "X = X- np.mean(X, axis=0)\n",
    "print(X)"
   ]
  },
  {
   "cell_type": "code",
   "execution_count": 30,
   "id": "cf2a9035",
   "metadata": {},
   "outputs": [
    {
     "name": "stdout",
     "output_type": "stream",
     "text": [
      "공분산 행렬\n",
      "[[33.87 45.83 13.2 ]\n",
      " [45.83 84.99 19.84]\n",
      " [13.2  19.84  6.19]]\n"
     ]
    }
   ],
   "source": [
    "print('공분산 행렬')\n",
    "# 공분산구하기\n",
    "cov = X.T @ X / len(X)-1\n",
    "print(cov)"
   ]
  },
  {
   "cell_type": "markdown",
   "id": "2e02474f",
   "metadata": {},
   "source": [
    "# np.cov 함수와 결과 비교"
   ]
  },
  {
   "cell_type": "code",
   "execution_count": 31,
   "id": "46379fe4",
   "metadata": {},
   "outputs": [
    {
     "name": "stdout",
     "output_type": "stream",
     "text": [
      "[[38.75 52.03 15.78]\n",
      " [52.03 95.54 23.16]\n",
      " [15.78 23.16  7.98]]\n"
     ]
    }
   ],
   "source": [
    "np_cov = np.cov(X,rowvar=False)\n",
    "# 행을 변수로 보고 열을 관측치로 보고있음\n",
    "print(np_cov)"
   ]
  },
  {
   "cell_type": "markdown",
   "id": "9cfc6853",
   "metadata": {},
   "source": [
    "# 고유값, 고유백터 행렬 구하기"
   ]
  },
  {
   "cell_type": "code",
   "execution_count": 40,
   "id": "6678db79",
   "metadata": {},
   "outputs": [],
   "source": [
    "eigenvalue, eigenvector = np.linalg.eig(cov) # 고유값과 고유백터행렬을 튜플로 반환해줌"
   ]
  },
  {
   "cell_type": "code",
   "execution_count": 41,
   "id": "39a2d658",
   "metadata": {},
   "outputs": [
    {
     "name": "stdout",
     "output_type": "stream",
     "text": [
      "고유값: [117.01   7.23   0.8 ] \n",
      "고유백터 행렬(V):\n",
      "[[-0.5  -0.82 -0.28]\n",
      " [-0.84  0.54 -0.07]\n",
      " [-0.21 -0.2   0.96]]\n"
     ]
    }
   ],
   "source": [
    "print(f'고유값: {eigenvalue} \\n고유백터 행렬(V):\\n{eigenvector}') "
   ]
  },
  {
   "cell_type": "code",
   "execution_count": 43,
   "id": "2e92dadc",
   "metadata": {},
   "outputs": [
    {
     "name": "stdout",
     "output_type": "stream",
     "text": [
      "고유값 대각행렬(lambda)\n",
      "[[117.01   0.     0.  ]\n",
      " [  0.     7.23   0.  ]\n",
      " [  0.     0.     0.8 ]]\n"
     ]
    }
   ],
   "source": [
    "print('고유값 대각행렬(lambda)')\n",
    "eig_matrix = np.eye(3) * eigenvalue\n",
    "print(eig_matrix)"
   ]
  },
  {
   "cell_type": "code",
   "execution_count": 46,
   "id": "5c54fc12",
   "metadata": {},
   "outputs": [
    {
     "name": "stdout",
     "output_type": "stream",
     "text": [
      "첫 번째 고유백터와 두 번째 고유 백터와의 내적\n",
      "-0.0\n"
     ]
    }
   ],
   "source": [
    "print('첫 번째 고유백터와 두 번째 고유 백터와의 내적')\n",
    "c = (eigenvector[:,0].T) @ (eigenvector[:,1])\n",
    "print(np.round(c,4))\n",
    "# 두 백터가 서로 직교하면 내적 값이 0이 된다.\n",
    "# PC2(두번째로 큰 분산을 나타내는 값) 는 PC1과(가장 큰 분산을 나타내는 값) --> 직교한다"
   ]
  },
  {
   "cell_type": "code",
   "execution_count": 49,
   "id": "d32b0401",
   "metadata": {},
   "outputs": [
    {
     "name": "stdout",
     "output_type": "stream",
     "text": [
      "고유값 분해를 통한 공분산 행렬을 계산\n",
      "[[33.87 45.83 13.2 ]\n",
      " [45.83 84.99 19.84]\n",
      " [13.2  19.84  6.19]]\n"
     ]
    }
   ],
   "source": [
    "print('고유값 분해를 통한 공분산 행렬을 계산')\n",
    "A = eigenvector@eig_matrix@np.linalg.inv(eigenvector)\n",
    "# np.linalg.inv --> inv --> 역행렬\n",
    "print(A)"
   ]
  },
  {
   "cell_type": "code",
   "execution_count": 50,
   "id": "bc5a604e",
   "metadata": {},
   "outputs": [
    {
     "name": "stdout",
     "output_type": "stream",
     "text": [
      "[[33.87 45.83 13.2 ]\n",
      " [45.83 84.99 19.84]\n",
      " [13.2  19.84  6.19]]\n"
     ]
    }
   ],
   "source": [
    "print(cov)"
   ]
  },
  {
   "cell_type": "markdown",
   "id": "9ae73a08",
   "metadata": {},
   "source": [
    "# 첫 번째 주성분 (PC1) 구하기"
   ]
  },
  {
   "cell_type": "code",
   "execution_count": 53,
   "id": "fc3087ef",
   "metadata": {},
   "outputs": [
    {
     "data": {
      "text/plain": [
       "array([[  7.07,   9.07,   1.78],\n",
       "       [ -2.63,   1.17,  -0.72],\n",
       "       [ -5.33,  -9.93,  -5.12],\n",
       "       [-11.53, -17.03,  -3.72],\n",
       "       [  5.77,  14.27,   3.78],\n",
       "       [  5.37,  -1.83,   2.48],\n",
       "       [ -0.63,   0.77,  -0.22],\n",
       "       [ -6.03,  -7.43,  -1.52],\n",
       "       [  3.77,  11.17,   1.68],\n",
       "       [  4.17,  -0.23,   1.58]])"
      ]
     },
     "execution_count": 53,
     "metadata": {},
     "output_type": "execute_result"
    }
   ],
   "source": [
    "X"
   ]
  },
  {
   "cell_type": "code",
   "execution_count": 57,
   "id": "3d292cb5",
   "metadata": {
    "scrolled": true
   },
   "outputs": [
    {
     "name": "stdout",
     "output_type": "stream",
     "text": [
      "[-0.5  -0.84 -0.21]\n"
     ]
    }
   ],
   "source": [
    "print(eigenvector[:,0].T)"
   ]
  },
  {
   "cell_type": "code",
   "execution_count": 59,
   "id": "c2804d52",
   "metadata": {},
   "outputs": [
    {
     "name": "stdout",
     "output_type": "stream",
     "text": [
      "[[  7.07  -2.63  -5.33 -11.53   5.77   5.37  -0.63  -6.03   3.77   4.17]\n",
      " [  9.07   1.17  -9.93 -17.03  14.27  -1.83   0.77  -7.43  11.17  -0.23]\n",
      " [  1.78  -0.72  -5.12  -3.72   3.78   2.48  -0.22  -1.52   1.68   1.58]]\n"
     ]
    }
   ],
   "source": [
    "print(X.T)"
   ]
  },
  {
   "cell_type": "code",
   "execution_count": 58,
   "id": "890e5ab0",
   "metadata": {},
   "outputs": [
    {
     "name": "stdout",
     "output_type": "stream",
     "text": [
      "[-11.52   0.47  12.08  20.85 -15.68  -1.65  -0.29   9.57 -11.63  -2.21]\n"
     ]
    }
   ],
   "source": [
    "pc1 = eigenvector[:,0].T@X.T #열이 독립변수, 행이 관측치이기 떄문\n",
    "print(pc1) #10명에 대한 데이터\n",
    "# 백터 v1에 사형을 해서 첫번째 사람 데이터가 어디에 있는지 나타남"
   ]
  },
  {
   "cell_type": "markdown",
   "id": "3fca92f3",
   "metadata": {},
   "source": [
    "# 공분산을 이용한 주성분 분석"
   ]
  },
  {
   "cell_type": "code",
   "execution_count": 64,
   "id": "ae8d58f6",
   "metadata": {},
   "outputs": [
    {
     "name": "stdout",
     "output_type": "stream",
     "text": [
      "PCA를 이용한 차원 축소\n",
      "고유백터 VT - 주성분 두개 선택\n",
      "[[-0.5  -0.84 -0.21]\n",
      " [-0.82  0.54 -0.2 ]]\n",
      "고유백터 VT 와 원데이터 XT의 내적\n",
      "[[-11.52  -1.31]\n",
      " [  0.47   2.93]\n",
      " [ 12.08   0.09]\n",
      " [ 20.85   1.1 ]\n",
      " [-15.68   2.14]\n",
      " [ -1.65  -5.89]\n",
      " [ -0.29   0.97]\n",
      " [  9.57   1.28]\n",
      " [-11.63   2.54]\n",
      " [ -2.21  -3.86]]\n"
     ]
    }
   ],
   "source": [
    "print('PCA를 이용한 차원 축소')\n",
    "VT = np.array([eigenvector[:,0],eigenvector[:,1]])\n",
    "print('고유백터 VT - 주성분 두개 선택')\n",
    "print(VT)\n",
    "print('고유백터 VT 와 원데이터 XT의 내적')\n",
    "Z = VT@X.T\n",
    "print(Z.T)"
   ]
  },
  {
   "cell_type": "markdown",
   "id": "ca14e649",
   "metadata": {},
   "source": [
    "# PCA 클래스와 결과 비교"
   ]
  },
  {
   "cell_type": "code",
   "execution_count": 2,
   "id": "fd9edc96",
   "metadata": {},
   "outputs": [],
   "source": [
    "from sklearn.decomposition import PCA"
   ]
  },
  {
   "cell_type": "code",
   "execution_count": 3,
   "id": "46c037d7",
   "metadata": {},
   "outputs": [],
   "source": [
    "x = [[177.7, 68.1, 91.8], [168, 60.2, 89.3], [165.3, 49.1, 84.9], [159.1, 42, 86.3], [176.4, 73.3, 93.8],\n",
    "     [176, 57.2, 92.5], [170, 59.8, 89.8], [164.6, 51.6, 88.5], [174.4, 70.2, 91.7], [174.8, 58.8, 91.6]]\n",
    "X = np.array(x)"
   ]
  },
  {
   "cell_type": "code",
   "execution_count": 4,
   "id": "ba2852e4",
   "metadata": {},
   "outputs": [
    {
     "data": {
      "text/plain": [
       "array([[177.7,  68.1,  91.8],\n",
       "       [168. ,  60.2,  89.3],\n",
       "       [165.3,  49.1,  84.9],\n",
       "       [159.1,  42. ,  86.3],\n",
       "       [176.4,  73.3,  93.8],\n",
       "       [176. ,  57.2,  92.5],\n",
       "       [170. ,  59.8,  89.8],\n",
       "       [164.6,  51.6,  88.5],\n",
       "       [174.4,  70.2,  91.7],\n",
       "       [174.8,  58.8,  91.6]])"
      ]
     },
     "execution_count": 4,
     "metadata": {},
     "output_type": "execute_result"
    }
   ],
   "source": [
    "X"
   ]
  },
  {
   "cell_type": "code",
   "execution_count": 67,
   "id": "662b3506",
   "metadata": {},
   "outputs": [
    {
     "name": "stdout",
     "output_type": "stream",
     "text": [
      "(10, 2)\n",
      "[[-11.53   1.18]\n",
      " [  0.49  -2.92]\n",
      " [ 12.11  -0.13]\n",
      " [ 20.85  -0.91]\n",
      " [-15.67  -2.2 ]\n",
      " [ -1.7    5.91]\n",
      " [ -0.28  -0.98]\n",
      " [  9.57  -1.17]\n",
      " [-11.61  -2.64]\n",
      " [ -2.24   3.86]]\n"
     ]
    }
   ],
   "source": [
    "model = PCA(n_components= 2) #2차원으로 축소\n",
    "pca = model.fit_transform(X)\n",
    "print(pca.shape)\n",
    "print(pca)"
   ]
  },
  {
   "cell_type": "markdown",
   "id": "60102c46",
   "metadata": {},
   "source": [
    "# PCA 가 차지하는 분산 비율 구하기"
   ]
  },
  {
   "cell_type": "code",
   "execution_count": 73,
   "id": "6468676c",
   "metadata": {},
   "outputs": [
    {
     "name": "stdout",
     "output_type": "stream",
     "text": [
      "[0.93 0.06]\n",
      "분산 합 : 0.99\n",
      "[117.01   7.23   0.8 ]\n",
      "0.9936004500845471\n"
     ]
    }
   ],
   "source": [
    "print(model.explained_variance_ratio_)\n",
    "# 첫번째 component 의 전체 분산의 93프로를 설명\n",
    "print(f'분산 합 : {np.sum(model.explained_variance_ratio_):.2f}')\n",
    "# PC1의 설명력\n",
    "#   = L1 / (L1+L2+L3)\n",
    "ratio = (eigenvalue[0]+ eigenvalue[1])/ np.sum(eigenvalue)\n",
    "# 람다 = 분산의 크기\n",
    "print(eigenvalue)\n",
    "print(ratio)"
   ]
  },
  {
   "cell_type": "code",
   "execution_count": 75,
   "id": "eead3453",
   "metadata": {},
   "outputs": [
    {
     "name": "stdout",
     "output_type": "stream",
     "text": [
      "[[-0.5  -0.84 -0.22]\n",
      " [ 0.8  -0.54  0.24]]\n",
      "[132.7    8.31]\n"
     ]
    }
   ],
   "source": [
    "print(model.components_ )# 고유백터 행렬\n",
    "print(model.explained_variance_)#고유값"
   ]
  }
 ],
 "metadata": {
  "kernelspec": {
   "display_name": "Python 3 (ipykernel)",
   "language": "python",
   "name": "python3"
  },
  "language_info": {
   "codemirror_mode": {
    "name": "ipython",
    "version": 3
   },
   "file_extension": ".py",
   "mimetype": "text/x-python",
   "name": "python",
   "nbconvert_exporter": "python",
   "pygments_lexer": "ipython3",
   "version": "3.9.13"
  },
  "toc": {
   "base_numbering": 1,
   "nav_menu": {},
   "number_sections": true,
   "sideBar": true,
   "skip_h1_title": false,
   "title_cell": "Table of Contents",
   "title_sidebar": "Contents",
   "toc_cell": false,
   "toc_position": {},
   "toc_section_display": true,
   "toc_window_display": false
  }
 },
 "nbformat": 4,
 "nbformat_minor": 5
}
