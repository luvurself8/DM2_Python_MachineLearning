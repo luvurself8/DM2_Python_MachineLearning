{
 "cells": [
  {
   "cell_type": "markdown",
   "id": "e80cffd3",
   "metadata": {},
   "source": [
    "# 육상선수 종목별 기록 데이터"
   ]
  },
  {
   "cell_type": "code",
   "execution_count": 1,
   "id": "f64223d5",
   "metadata": {},
   "outputs": [],
   "source": [
    "import numpy as np\n",
    "\n",
    "A = np.array([\n",
    "              [3.73, 1.86, 15.8, 4.05, 7.27, 45.66, 34.92 ],\n",
    "              [3.57, 1.80, 16.23, 2.96, 6.71, 42.56, 37.31],\n",
    "              [3.22, 1.83, 14.20, 3.51, 6.68, 44.54, 39.23],\n",
    "              [2.81, 1.80, 15.23, 2.69, 6.25, 42.78, 31.19],\n",
    "              [2.91, 1.74, 14.76, 2.68, 6.32, 47.46, 35.53],\n",
    "              [2.67, 1.83, 13.50, 1.96, 6.33, 42.82, 37.64]\n",
    "])"
   ]
  },
  {
   "cell_type": "markdown",
   "id": "dbdc8d90",
   "metadata": {},
   "source": [
    "# 허들 종목 기록 데이터 및 통계지표"
   ]
  },
  {
   "cell_type": "code",
   "execution_count": 10,
   "id": "77af5f2d",
   "metadata": {},
   "outputs": [
    {
     "name": "stdout",
     "output_type": "stream",
     "text": [
      "허들 종목 기록 데이터\n",
      "[3.73 3.57 3.22 2.81 2.91 2.67]\n",
      "평균:3.152\n",
      "n-1분산:0.184\n",
      "분산:0.154\n",
      "n-1표준편차:0.429\n",
      "표준편차:0.392\n"
     ]
    }
   ],
   "source": [
    "print('허들 종목 기록 데이터')\n",
    "hurdle = A[:,0]\n",
    "print(hurdle)\n",
    "print(f'평균:{np.mean(hurdle):.3f}')\n",
    "print(f'n-1분산:{np.var(hurdle, ddof=1):.3f}') #자유도 (n-ddof)\n",
    "print(f'분산:{np.var(hurdle):.3f}')\n",
    "\n",
    "#print(f'표준편차:{np.sqrt(np.var(hurdle)):.3f}')\n",
    "print(f'n-1표준편차:{np.std(hurdle, ddof=1):.3f}')\n",
    "print(f'표준편차:{np.std(hurdle):.3f}')"
   ]
  },
  {
   "cell_type": "markdown",
   "id": "633cede0",
   "metadata": {},
   "source": [
    "# 공분산 행렬"
   ]
  },
  {
   "cell_type": "code",
   "execution_count": 12,
   "id": "8df227d5",
   "metadata": {},
   "outputs": [],
   "source": [
    "np.set_printoptions(suppress=True, precision=3)"
   ]
  },
  {
   "cell_type": "code",
   "execution_count": 13,
   "id": "003a21da",
   "metadata": {},
   "outputs": [
    {
     "name": "stdout",
     "output_type": "stream",
     "text": [
      "['Covariance Metrix']\n",
      "[[ 0.184  0.007  0.325  0.262  0.151  0.109  0.222]\n",
      " [ 0.007  0.002 -0.001  0.014  0.01  -0.029  0.022]\n",
      " [ 0.325 -0.001  1.028  0.388  0.199 -0.026 -1.06 ]\n",
      " [ 0.262  0.014  0.388  0.528  0.244  0.524  0.078]\n",
      " [ 0.151  0.01   0.199  0.244  0.148  0.157  0.21 ]\n",
      " [ 0.109 -0.029 -0.026  0.524  0.157  3.884  0.085]\n",
      " [ 0.222  0.022 -1.06   0.078  0.21   0.085  7.871]]\n"
     ]
    }
   ],
   "source": [
    "print(['Covariance Metrix'])\n",
    "B = np.cov(A, rowvar=False) \n",
    "#rowvar: True ; 행이 변수를 나타내며, 열은 각 변수의 관측치를 나타낸다.\n",
    "#rowvar: False ; 행이 각 변수의 관측치를 나타내며,열은 변수를 나타낸다.\n",
    "print(B)\n",
    "# 대각선 -- > 각 종목에 대한 분산값\n"
   ]
  },
  {
   "cell_type": "code",
   "execution_count": 14,
   "id": "b147147a",
   "metadata": {},
   "outputs": [],
   "source": [
    "A = np.array([\n",
    "              [3.73, 1.86, 15.8, 4.05, 7.27, 45.66, 34.92 ],\n",
    "              [3.57, 1.80, 16.23, 2.96, 6.71, 42.56, 37.31],\n",
    "              [3.22, 1.83, 14.20, 3.51, 6.68, 44.54, 39.23],\n",
    "              [2.81, 1.80, 15.23, 2.69, 6.25, 42.78, 31.19],\n",
    "              [2.91, 1.74, 14.76, 2.68, 6.32, 47.46, 35.53],\n",
    "              [2.67, 1.83, 13.50, 1.96, 6.33, 42.82, 37.64]\n",
    "])"
   ]
  },
  {
   "cell_type": "code",
   "execution_count": 19,
   "id": "aa72b1b5",
   "metadata": {},
   "outputs": [
    {
     "name": "stdout",
     "output_type": "stream",
     "text": [
      "열평균: [3.1516666666666673, 1.8099999999999998, 14.953333333333335, 2.9749999999999996, 6.593333333333334, 44.303333333333335, 35.97]\n"
     ]
    }
   ],
   "source": [
    "print('열평균:',[np.mean(A[:,0]),np.mean(A[:,1]),np.mean(A[:,2]),np.mean(A[:,3]),np.mean(A[:,4]),np.mean(A[:,5]),np.mean(A[:,6])] )"
   ]
  },
  {
   "cell_type": "code",
   "execution_count": 23,
   "id": "ee1b2bcc",
   "metadata": {},
   "outputs": [
    {
     "name": "stdout",
     "output_type": "stream",
     "text": [
      "[[ 0.578  0.05   0.847  1.075  0.677  1.357 -1.05 ]\n",
      " [ 0.418 -0.01   1.277 -0.015  0.117 -1.743  1.34 ]\n",
      " [ 0.068  0.02  -0.753  0.535  0.087  0.237  3.26 ]\n",
      " [-0.342 -0.01   0.277 -0.285 -0.343 -1.523 -4.78 ]\n",
      " [-0.242 -0.07  -0.193 -0.295 -0.273  3.157 -0.44 ]\n",
      " [-0.482  0.02  -1.453 -1.015 -0.263 -1.483  1.67 ]]\n"
     ]
    }
   ],
   "source": [
    "X = A - np.mean(A, axis=0)\n",
    "print(X)"
   ]
  },
  {
   "cell_type": "code",
   "execution_count": 29,
   "id": "831c03bf",
   "metadata": {},
   "outputs": [
    {
     "name": "stdout",
     "output_type": "stream",
     "text": [
      "[[ 0.578  0.418  0.068 -0.342 -0.242 -0.482]\n",
      " [ 0.05  -0.01   0.02  -0.01  -0.07   0.02 ]\n",
      " [ 0.847  1.277 -0.753  0.277 -0.193 -1.453]\n",
      " [ 1.075 -0.015  0.535 -0.285 -0.295 -1.015]\n",
      " [ 0.677  0.117  0.087 -0.343 -0.273 -0.263]\n",
      " [ 1.357 -1.743  0.237 -1.523  3.157 -1.483]\n",
      " [-1.05   1.34   3.26  -4.78  -0.44   1.67 ]]\n"
     ]
    }
   ],
   "source": [
    "print(X.T)"
   ]
  },
  {
   "cell_type": "code",
   "execution_count": 30,
   "id": "793dfde8",
   "metadata": {},
   "outputs": [
    {
     "name": "stdout",
     "output_type": "stream",
     "text": [
      "[[ 0.921  0.037  1.624  1.31   0.756  0.544  1.111]\n",
      " [ 0.037  0.008 -0.004  0.068  0.052 -0.145  0.111]\n",
      " [ 1.624 -0.004  5.14   1.941  0.997 -0.131 -5.299]\n",
      " [ 1.31   0.068  1.941  2.641  1.218  2.62   0.392]\n",
      " [ 0.756  0.052  0.997  1.218  0.741  0.786  1.05 ]\n",
      " [ 0.544 -0.145 -0.131  2.62   0.786 19.421  0.426]\n",
      " [ 1.111  0.111 -5.299  0.392  1.05   0.426 39.357]]\n"
     ]
    }
   ],
   "source": [
    "print(X.T@X)"
   ]
  },
  {
   "cell_type": "code",
   "execution_count": 31,
   "id": "4c412144",
   "metadata": {},
   "outputs": [
    {
     "data": {
      "text/plain": [
       "6"
      ]
     },
     "execution_count": 31,
     "metadata": {},
     "output_type": "execute_result"
    }
   ],
   "source": [
    "len(X)"
   ]
  },
  {
   "cell_type": "code",
   "execution_count": 28,
   "id": "fd166569",
   "metadata": {},
   "outputs": [
    {
     "name": "stdout",
     "output_type": "stream",
     "text": [
      "Covariance Matrix\n",
      "[[ 0.184  0.007  0.325  0.262  0.151  0.109  0.222]\n",
      " [ 0.007  0.002 -0.001  0.014  0.01  -0.029  0.022]\n",
      " [ 0.325 -0.001  1.028  0.388  0.199 -0.026 -1.06 ]\n",
      " [ 0.262  0.014  0.388  0.528  0.244  0.524  0.078]\n",
      " [ 0.151  0.01   0.199  0.244  0.148  0.157  0.21 ]\n",
      " [ 0.109 -0.029 -0.026  0.524  0.157  3.884  0.085]\n",
      " [ 0.222  0.022 -1.06   0.078  0.21   0.085  7.871]]\n"
     ]
    }
   ],
   "source": [
    "print('Covariance Matrix')\n",
    "cov = (X.T@X)/(len(X)-1)\n",
    "print(cov)"
   ]
  },
  {
   "cell_type": "code",
   "execution_count": null,
   "id": "4dd60d99",
   "metadata": {},
   "outputs": [],
   "source": [
    "np.array()"
   ]
  }
 ],
 "metadata": {
  "kernelspec": {
   "display_name": "Python 3 (ipykernel)",
   "language": "python",
   "name": "python3"
  },
  "language_info": {
   "codemirror_mode": {
    "name": "ipython",
    "version": 3
   },
   "file_extension": ".py",
   "mimetype": "text/x-python",
   "name": "python",
   "nbconvert_exporter": "python",
   "pygments_lexer": "ipython3",
   "version": "3.9.13"
  },
  "toc": {
   "base_numbering": 1,
   "nav_menu": {},
   "number_sections": true,
   "sideBar": true,
   "skip_h1_title": false,
   "title_cell": "Table of Contents",
   "title_sidebar": "Contents",
   "toc_cell": false,
   "toc_position": {},
   "toc_section_display": true,
   "toc_window_display": false
  }
 },
 "nbformat": 4,
 "nbformat_minor": 5
}
