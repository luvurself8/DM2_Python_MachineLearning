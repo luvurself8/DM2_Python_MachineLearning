{
 "cells": [
  {
   "cell_type": "code",
   "execution_count": 196,
   "id": "a784361c",
   "metadata": {},
   "outputs": [],
   "source": [
    "import pandas as pd\n",
    "import numpy as np"
   ]
  },
  {
   "cell_type": "markdown",
   "id": "345182ed",
   "metadata": {},
   "source": [
    "# 데이터 로드"
   ]
  },
  {
   "cell_type": "code",
   "execution_count": 197,
   "id": "f34fbaa8",
   "metadata": {},
   "outputs": [],
   "source": [
    "airport = pd.read_csv('./Airport Codes Dataset.csv')\n",
    "flight = pd.read_csv('./Flight on-time performance.csv')"
   ]
  },
  {
   "cell_type": "code",
   "execution_count": 198,
   "id": "4fd5c438",
   "metadata": {
    "scrolled": true
   },
   "outputs": [
    {
     "data": {
      "text/plain": [
       "Index(['airport_id', 'city', 'state', 'name'], dtype='object')"
      ]
     },
     "execution_count": 198,
     "metadata": {},
     "output_type": "execute_result"
    }
   ],
   "source": [
    "airport.columns"
   ]
  },
  {
   "cell_type": "markdown",
   "id": "df384a87",
   "metadata": {},
   "source": [
    "# 데이터 병합"
   ]
  },
  {
   "cell_type": "code",
   "execution_count": 199,
   "id": "db2ac4da",
   "metadata": {},
   "outputs": [],
   "source": [
    "airport_ori = airport.rename(columns = {'city': 'Ori-city', 'state':'Ori-state', 'name':'Ori-airport'})"
   ]
  },
  {
   "cell_type": "code",
   "execution_count": 200,
   "id": "17fa1d46",
   "metadata": {},
   "outputs": [
    {
     "data": {
      "text/plain": [
       "Index(['Year', 'Quarter', 'Month', 'DayofMonth', 'DayOfWeek', 'Carrier',\n",
       "       'OriginAirportID', 'DestAirportID', 'CRSDepTime', 'DepTimeBlk',\n",
       "       'DepDelay', 'DepDel15', 'CRSArrTime', 'ArrTimeBlk', 'ArrDelay',\n",
       "       'ArrDel15', 'Cancelled', 'Diverted'],\n",
       "      dtype='object')"
      ]
     },
     "execution_count": 200,
     "metadata": {},
     "output_type": "execute_result"
    }
   ],
   "source": [
    "flight.columns"
   ]
  },
  {
   "cell_type": "code",
   "execution_count": 201,
   "id": "8d9b18b7",
   "metadata": {},
   "outputs": [
    {
     "data": {
      "text/plain": [
       "21"
      ]
     },
     "execution_count": 201,
     "metadata": {},
     "output_type": "execute_result"
    }
   ],
   "source": [
    "merge_1 = pd.merge(airport_ori,flight, left_on='airport_id', right_on='OriginAirportID', how='right')\n",
    "merge_1 = merge_1.drop('airport_id', axis=1)\n",
    "len(merge_1.columns)"
   ]
  },
  {
   "cell_type": "code",
   "execution_count": 202,
   "id": "4697e2a5",
   "metadata": {},
   "outputs": [
    {
     "data": {
      "text/plain": [
       "(504397, 21)"
      ]
     },
     "execution_count": 202,
     "metadata": {},
     "output_type": "execute_result"
    }
   ],
   "source": [
    "merge_1.shape"
   ]
  },
  {
   "cell_type": "code",
   "execution_count": 203,
   "id": "1fd17122",
   "metadata": {},
   "outputs": [],
   "source": [
    "airport_dest = airport.rename(columns = {'city': 'Dest-city', 'state':'Dest-state', 'name':'Dest-airport'})"
   ]
  },
  {
   "cell_type": "code",
   "execution_count": 204,
   "id": "7c21d8e7",
   "metadata": {},
   "outputs": [
    {
     "data": {
      "text/plain": [
       "24"
      ]
     },
     "execution_count": 204,
     "metadata": {},
     "output_type": "execute_result"
    }
   ],
   "source": [
    "merge_2 = pd.merge(airport_dest, merge_1, left_on='airport_id', right_on='DestAirportID',how='right')\n",
    "merge_2 = merge_2.drop('airport_id', axis=1)\n",
    "len(merge_2.columns)"
   ]
  },
  {
   "cell_type": "code",
   "execution_count": 205,
   "id": "b630551a",
   "metadata": {},
   "outputs": [
    {
     "data": {
      "text/plain": [
       "Index(['Dest-city', 'Dest-state', 'Dest-airport', 'Ori-city', 'Ori-state',\n",
       "       'Ori-airport', 'Year', 'Quarter', 'Month', 'DayofMonth', 'DayOfWeek',\n",
       "       'Carrier', 'OriginAirportID', 'DestAirportID', 'CRSDepTime',\n",
       "       'DepTimeBlk', 'DepDelay', 'DepDel15', 'CRSArrTime', 'ArrTimeBlk',\n",
       "       'ArrDelay', 'ArrDel15', 'Cancelled', 'Diverted'],\n",
       "      dtype='object')"
      ]
     },
     "execution_count": 205,
     "metadata": {},
     "output_type": "execute_result"
    }
   ],
   "source": [
    "merge_2.columns"
   ]
  },
  {
   "cell_type": "code",
   "execution_count": 206,
   "id": "ab76c7a1",
   "metadata": {},
   "outputs": [],
   "source": [
    "data = merge_2[['DayOfWeek', 'Carrier', 'DepTimeBlk', 'DepDelay', 'DepDel15', 'ArrTimeBlk', 'ArrDel15','Ori-city', 'Ori-state', 'Ori-airport', 'Dest-city', 'Dest-state', 'Dest-airport', 'ArrDelay']]"
   ]
  },
  {
   "cell_type": "markdown",
   "id": "38ce9990",
   "metadata": {},
   "source": [
    "# 결측치 확인 및 삭제"
   ]
  },
  {
   "cell_type": "code",
   "execution_count": 207,
   "id": "8d05365d",
   "metadata": {},
   "outputs": [
    {
     "data": {
      "text/plain": [
       "DayOfWeek          0\n",
       "Carrier            0\n",
       "DepTimeBlk         0\n",
       "DepDelay        3697\n",
       "DepDel15        3697\n",
       "ArrTimeBlk         0\n",
       "ArrDel15        4717\n",
       "Ori-city           0\n",
       "Ori-state          0\n",
       "Ori-airport        0\n",
       "Dest-city          0\n",
       "Dest-state         0\n",
       "Dest-airport       0\n",
       "ArrDelay        4717\n",
       "dtype: int64"
      ]
     },
     "execution_count": 207,
     "metadata": {},
     "output_type": "execute_result"
    }
   ],
   "source": [
    "np.sum(data.isna())"
   ]
  },
  {
   "cell_type": "code",
   "execution_count": 208,
   "id": "d334af78",
   "metadata": {},
   "outputs": [],
   "source": [
    "data = data.dropna()"
   ]
  },
  {
   "cell_type": "code",
   "execution_count": 209,
   "id": "85ecf972",
   "metadata": {},
   "outputs": [
    {
     "data": {
      "text/plain": [
       "DayOfWeek       0\n",
       "Carrier         0\n",
       "DepTimeBlk      0\n",
       "DepDelay        0\n",
       "DepDel15        0\n",
       "ArrTimeBlk      0\n",
       "ArrDel15        0\n",
       "Ori-city        0\n",
       "Ori-state       0\n",
       "Ori-airport     0\n",
       "Dest-city       0\n",
       "Dest-state      0\n",
       "Dest-airport    0\n",
       "ArrDelay        0\n",
       "dtype: int64"
      ]
     },
     "execution_count": 209,
     "metadata": {},
     "output_type": "execute_result"
    }
   ],
   "source": [
    "np.sum(data.isna())"
   ]
  },
  {
   "cell_type": "markdown",
   "id": "21f76ad8",
   "metadata": {},
   "source": [
    "# 데이터 타입 변경"
   ]
  },
  {
   "cell_type": "code",
   "execution_count": 210,
   "id": "c2d06248",
   "metadata": {},
   "outputs": [
    {
     "name": "stderr",
     "output_type": "stream",
     "text": [
      "C:\\Users\\user\\anaconda3\\lib\\site-packages\\IPython\\lib\\pretty.py:700: FutureWarning: Index.ravel returning ndarray is deprecated; in a future version this will return a view on self.\n",
      "  output = repr(obj)\n"
     ]
    },
    {
     "data": {
      "text/plain": [
       "0         0.0\n",
       "1         0.0\n",
       "2         0.0\n",
       "3         0.0\n",
       "4         0.0\n",
       "         ... \n",
       "504392    0.0\n",
       "504393    0.0\n",
       "504394    0.0\n",
       "504395    0.0\n",
       "504396    0.0\n",
       "Name: ArrDel15, Length: 499680, dtype: category\n",
       "Categories (2, float64): [0.0, 1.0]"
      ]
     },
     "execution_count": 210,
     "metadata": {},
     "output_type": "execute_result"
    }
   ],
   "source": [
    "data['ArrDel15'].astype('category')"
   ]
  },
  {
   "cell_type": "code",
   "execution_count": 211,
   "id": "5e692884",
   "metadata": {
    "scrolled": true
   },
   "outputs": [
    {
     "name": "stdout",
     "output_type": "stream",
     "text": [
      "<class 'pandas.core.frame.DataFrame'>\n",
      "Int64Index: 499680 entries, 0 to 504396\n",
      "Data columns (total 14 columns):\n",
      " #   Column        Non-Null Count   Dtype  \n",
      "---  ------        --------------   -----  \n",
      " 0   DayOfWeek     499680 non-null  int64  \n",
      " 1   Carrier       499680 non-null  object \n",
      " 2   DepTimeBlk    499680 non-null  object \n",
      " 3   DepDelay      499680 non-null  float64\n",
      " 4   DepDel15      499680 non-null  float64\n",
      " 5   ArrTimeBlk    499680 non-null  object \n",
      " 6   ArrDel15      499680 non-null  float64\n",
      " 7   Ori-city      499680 non-null  object \n",
      " 8   Ori-state     499680 non-null  object \n",
      " 9   Ori-airport   499680 non-null  object \n",
      " 10  Dest-city     499680 non-null  object \n",
      " 11  Dest-state    499680 non-null  object \n",
      " 12  Dest-airport  499680 non-null  object \n",
      " 13  ArrDelay      499680 non-null  float64\n",
      "dtypes: float64(4), int64(1), object(9)\n",
      "memory usage: 57.2+ MB\n"
     ]
    }
   ],
   "source": [
    "data.info()"
   ]
  },
  {
   "cell_type": "markdown",
   "id": "27fdd7bd",
   "metadata": {},
   "source": [
    "# 인코딩"
   ]
  },
  {
   "cell_type": "code",
   "execution_count": 221,
   "id": "34cb6108",
   "metadata": {},
   "outputs": [],
   "source": [
    "from sklearn.preprocessing import LabelEncoder"
   ]
  },
  {
   "cell_type": "code",
   "execution_count": 213,
   "id": "acd766c9",
   "metadata": {},
   "outputs": [
    {
     "name": "stdout",
     "output_type": "stream",
     "text": [
      "컬렴명: Carrier       , 유니크값:16\n",
      "컬렴명: DepTimeBlk    , 유니크값:19\n",
      "컬렴명: ArrTimeBlk    , 유니크값:19\n",
      "컬렴명: Ori-city      , 유니크값:268\n",
      "컬렴명: Ori-state     , 유니크값:53\n",
      "컬렴명: Ori-airport   , 유니크값:279\n",
      "컬렴명: Dest-city     , 유니크값:268\n",
      "컬렴명: Dest-state    , 유니크값:53\n",
      "컬렴명: Dest-airport  , 유니크값:279\n"
     ]
    }
   ],
   "source": [
    "for col in [col for col in data.columns if data[col].dtype =='object']:\n",
    "    print(f'컬렴명: {col:14s}, 유니크값:{len(data[col].unique() )}')"
   ]
  },
  {
   "cell_type": "code",
   "execution_count": 222,
   "id": "67fcdf30",
   "metadata": {},
   "outputs": [],
   "source": [
    "for i in ['Carrier','DepTimeBlk','ArrTimeBlk', 'Ori-city','Ori-state','Ori-airport', 'Dest-city','Dest-state','Dest-airport']:\n",
    "    data[i]= LabelEncoder().fit_transform(data[i])"
   ]
  },
  {
   "cell_type": "markdown",
   "id": "8d53eaab",
   "metadata": {},
   "source": [
    "# x변수 y 변수 나누기"
   ]
  },
  {
   "cell_type": "code",
   "execution_count": 223,
   "id": "123a4c6b",
   "metadata": {},
   "outputs": [],
   "source": [
    "y = data['ArrDel15']\n",
    "x = data.drop('ArrDel15', axis=1)"
   ]
  },
  {
   "cell_type": "markdown",
   "id": "4694362c",
   "metadata": {},
   "source": [
    "# 자료분할"
   ]
  },
  {
   "cell_type": "code",
   "execution_count": 216,
   "id": "ae430781",
   "metadata": {},
   "outputs": [],
   "source": [
    "from sklearn.model_selection import train_test_split"
   ]
  },
  {
   "cell_type": "code",
   "execution_count": 224,
   "id": "214b53cf",
   "metadata": {},
   "outputs": [],
   "source": [
    "x_train, x_test, y_train, y_test = train_test_split (x,y, test_size=0.3, stratify= y, random_state=0)"
   ]
  },
  {
   "cell_type": "markdown",
   "id": "ac066a04",
   "metadata": {},
   "source": [
    "# 모델 생성"
   ]
  },
  {
   "cell_type": "code",
   "execution_count": 218,
   "id": "ed5e5101",
   "metadata": {},
   "outputs": [],
   "source": [
    "from sklearn.ensemble import RandomForestClassifier"
   ]
  },
  {
   "cell_type": "code",
   "execution_count": 225,
   "id": "9b9cb511",
   "metadata": {},
   "outputs": [
    {
     "data": {
      "text/plain": [
       "RandomForestClassifier()"
      ]
     },
     "execution_count": 225,
     "metadata": {},
     "output_type": "execute_result"
    }
   ],
   "source": [
    "model = RandomForestClassifier()\n",
    "model.fit(x_train, y_train)"
   ]
  },
  {
   "cell_type": "markdown",
   "id": "913f97cf",
   "metadata": {},
   "source": [
    "# 모델 예측"
   ]
  },
  {
   "cell_type": "code",
   "execution_count": 226,
   "id": "45178b8f",
   "metadata": {},
   "outputs": [],
   "source": [
    "y_hat = model.predict(x_test)"
   ]
  },
  {
   "cell_type": "markdown",
   "id": "b217d5e6",
   "metadata": {},
   "source": [
    "# 모델 평가"
   ]
  },
  {
   "cell_type": "code",
   "execution_count": 227,
   "id": "cc72a65e",
   "metadata": {},
   "outputs": [
    {
     "name": "stdout",
     "output_type": "stream",
     "text": [
      "정확도 : 1.000\n",
      "재현율 : 1.000\n",
      "precision : 1.000\n",
      "F1 : 1.000\n",
      "roc_auc : 1.000\n"
     ]
    }
   ],
   "source": [
    "from sklearn.metrics import precision_score, roc_auc_score, recall_score, f1_score, accuracy_score\n",
    "print(f'정확도 : {accuracy_score(y_test, y_hat):.3f}')\n",
    "print(f'재현율 : {recall_score(y_test, y_hat):.3f}')\n",
    "print(f'precision : {precision_score(y_test, y_hat):.3f}')\n",
    "print(f'F1 : {f1_score(y_test, y_hat):.3f}')\n",
    "print(f'roc_auc : {roc_auc_score(y_test, model.predict_proba(x_test)[:,1]):.3f}')"
   ]
  },
  {
   "cell_type": "code",
   "execution_count": 238,
   "id": "5d6192e1",
   "metadata": {},
   "outputs": [
    {
     "data": {
      "text/plain": [
       "array([[129438,      0],\n",
       "       [     0,  20466]], dtype=int64)"
      ]
     },
     "execution_count": 238,
     "metadata": {},
     "output_type": "execute_result"
    }
   ],
   "source": [
    "from sklearn.metrics import confusion_matrix\n",
    "cm=confusion_matrix(y_test,y_hat)\n",
    "cm"
   ]
  },
  {
   "cell_type": "code",
   "execution_count": 239,
   "id": "f6372a42",
   "metadata": {},
   "outputs": [
    {
     "data": {
      "image/png": "[encoded data removed]",
      "text/plain": [
       "<Figure size 640x480 with 2 Axes>"
      ]
     },
     "metadata": {},
     "output_type": "display_data"
    }
   ],
   "source": [
    "import seaborn as sns\n",
    "import matplotlib.pyplot as plt\n",
    "\n",
    "sns.heatmap(cm,annot=True,fmt='.3f')\n",
    "plt.xlabel('Predict')\n",
    "plt.ylabel('Actual')\n",
    "plt.title ('Sohyun Genious')\n",
    "plt.show()"
   ]
  },
  {
   "cell_type": "code",
   "execution_count": 240,
   "id": "0da00267",
   "metadata": {
    "scrolled": false
   },
   "outputs": [
    {
     "name": "stderr",
     "output_type": "stream",
     "text": [
      "C:\\Users\\user\\anaconda3\\lib\\site-packages\\sklearn\\utils\\deprecation.py:87: FutureWarning: Function plot_roc_curve is deprecated; Function :func:`plot_roc_curve` is deprecated in 1.0 and will be removed in 1.2. Use one of the class methods: :meth:`sklearn.metric.RocCurveDisplay.from_predictions` or :meth:`sklearn.metric.RocCurveDisplay.from_estimator`.\n",
      "  warnings.warn(msg, category=FutureWarning)\n"
     ]
    },
    {
     "data": {
      "image/png": "[encoded data removed]",
      "text/plain": [
       "<Figure size 640x480 with 1 Axes>"
      ]
     },
     "metadata": {},
     "output_type": "display_data"
    }
   ],
   "source": [
    "from sklearn.metrics import plot_roc_curve\n",
    "plot_roc_curve(model,x_test, y_test)\n",
    "plt.show()"
   ]
  },
  {
   "cell_type": "markdown",
   "id": "8dff4f51",
   "metadata": {},
   "source": [
    "# feature importance"
   ]
  },
  {
   "cell_type": "code",
   "execution_count": 243,
   "id": "89dbffcd",
   "metadata": {},
   "outputs": [
    {
     "data": {
      "text/html": [
       "<div>\n",
       "<style scoped>\n",
       "    .dataframe tbody tr th:only-of-type {\n",
       "        vertical-align: middle;\n",
       "    }\n",
       "\n",
       "    .dataframe tbody tr th {\n",
       "        vertical-align: top;\n",
       "    }\n",
       "\n",
       "    .dataframe thead th {\n",
       "        text-align: right;\n",
       "    }\n",
       "</style>\n",
       "<table border=\"1\" class=\"dataframe\">\n",
       "  <thead>\n",
       "    <tr style=\"text-align: right;\">\n",
       "      <th></th>\n",
       "      <th>importance</th>\n",
       "    </tr>\n",
       "  </thead>\n",
       "  <tbody>\n",
       "    <tr>\n",
       "      <th>ArrDelay</th>\n",
       "      <td>0.679264</td>\n",
       "    </tr>\n",
       "    <tr>\n",
       "      <th>DepDelay</th>\n",
       "      <td>0.189148</td>\n",
       "    </tr>\n",
       "    <tr>\n",
       "      <th>DepDel15</th>\n",
       "      <td>0.120411</td>\n",
       "    </tr>\n",
       "    <tr>\n",
       "      <th>DepTimeBlk</th>\n",
       "      <td>0.002101</td>\n",
       "    </tr>\n",
       "    <tr>\n",
       "      <th>Carrier</th>\n",
       "      <td>0.001941</td>\n",
       "    </tr>\n",
       "    <tr>\n",
       "      <th>ArrTimeBlk</th>\n",
       "      <td>0.001891</td>\n",
       "    </tr>\n",
       "    <tr>\n",
       "      <th>DayOfWeek</th>\n",
       "      <td>0.000896</td>\n",
       "    </tr>\n",
       "    <tr>\n",
       "      <th>Dest-city</th>\n",
       "      <td>0.000805</td>\n",
       "    </tr>\n",
       "    <tr>\n",
       "      <th>Dest-state</th>\n",
       "      <td>0.000736</td>\n",
       "    </tr>\n",
       "    <tr>\n",
       "      <th>Ori-airport</th>\n",
       "      <td>0.000729</td>\n",
       "    </tr>\n",
       "    <tr>\n",
       "      <th>Dest-airport</th>\n",
       "      <td>0.000713</td>\n",
       "    </tr>\n",
       "    <tr>\n",
       "      <th>Ori-city</th>\n",
       "      <td>0.000708</td>\n",
       "    </tr>\n",
       "    <tr>\n",
       "      <th>Ori-state</th>\n",
       "      <td>0.000658</td>\n",
       "    </tr>\n",
       "  </tbody>\n",
       "</table>\n",
       "</div>"
      ],
      "text/plain": [
       "              importance\n",
       "ArrDelay        0.679264\n",
       "DepDelay        0.189148\n",
       "DepDel15        0.120411\n",
       "DepTimeBlk      0.002101\n",
       "Carrier         0.001941\n",
       "ArrTimeBlk      0.001891\n",
       "DayOfWeek       0.000896\n",
       "Dest-city       0.000805\n",
       "Dest-state      0.000736\n",
       "Ori-airport     0.000729\n",
       "Dest-airport    0.000713\n",
       "Ori-city        0.000708\n",
       "Ori-state       0.000658"
      ]
     },
     "execution_count": 243,
     "metadata": {},
     "output_type": "execute_result"
    }
   ],
   "source": [
    "importnace = {k:v for k,v in zip (x.columns, model.feature_importances_)}\n",
    "df_importance = pd.DataFrame(pd.Series(importnace), columns = ['importance']).sort_values('importance',ascending=False)\n",
    "df_importance"
   ]
  },
  {
   "cell_type": "markdown",
   "id": "73ec62b8",
   "metadata": {},
   "source": [
    "# 하이퍼 파라메터 및 교차검증"
   ]
  },
  {
   "cell_type": "code",
   "execution_count": 231,
   "id": "258587e2",
   "metadata": {},
   "outputs": [],
   "source": [
    "from sklearn.model_selection import GridSearchCV"
   ]
  },
  {
   "cell_type": "code",
   "execution_count": 232,
   "id": "49cab936",
   "metadata": {},
   "outputs": [
    {
     "data": {
      "text/plain": [
       "dict_keys(['explained_variance', 'r2', 'max_error', 'neg_median_absolute_error', 'neg_mean_absolute_error', 'neg_mean_absolute_percentage_error', 'neg_mean_squared_error', 'neg_mean_squared_log_error', 'neg_root_mean_squared_error', 'neg_mean_poisson_deviance', 'neg_mean_gamma_deviance', 'accuracy', 'top_k_accuracy', 'roc_auc', 'roc_auc_ovr', 'roc_auc_ovo', 'roc_auc_ovr_weighted', 'roc_auc_ovo_weighted', 'balanced_accuracy', 'average_precision', 'neg_log_loss', 'neg_brier_score', 'adjusted_rand_score', 'rand_score', 'homogeneity_score', 'completeness_score', 'v_measure_score', 'mutual_info_score', 'adjusted_mutual_info_score', 'normalized_mutual_info_score', 'fowlkes_mallows_score', 'precision', 'precision_macro', 'precision_micro', 'precision_samples', 'precision_weighted', 'recall', 'recall_macro', 'recall_micro', 'recall_samples', 'recall_weighted', 'f1', 'f1_macro', 'f1_micro', 'f1_samples', 'f1_weighted', 'jaccard', 'jaccard_macro', 'jaccard_micro', 'jaccard_samples', 'jaccard_weighted'])"
      ]
     },
     "execution_count": 232,
     "metadata": {},
     "output_type": "execute_result"
    }
   ],
   "source": [
    "import sklearn\n",
    "sklearn.metrics.SCORERS.keys()"
   ]
  },
  {
   "cell_type": "code",
   "execution_count": 235,
   "id": "2c5e418a",
   "metadata": {},
   "outputs": [],
   "source": [
    "parameter = { 'criterion':['gini','entropy'],\n",
    "             'bootstrap':[True, False],\n",
    "             'min_samples_split':[1,2]}\n",
    "gs = GridSearchCV(model, parameter, cv=5, scoring='accuracy',n_jobs=-1)"
   ]
  },
  {
   "cell_type": "code",
   "execution_count": 236,
   "id": "eaf978c0",
   "metadata": {},
   "outputs": [
    {
     "name": "stderr",
     "output_type": "stream",
     "text": [
      "C:\\Users\\user\\anaconda3\\lib\\site-packages\\sklearn\\model_selection\\_validation.py:372: FitFailedWarning: \n",
      "20 fits failed out of a total of 40.\n",
      "The score on these train-test partitions for these parameters will be set to nan.\n",
      "If these failures are not expected, you can try to debug them by setting error_score='raise'.\n",
      "\n",
      "Below are more details about the failures:\n",
      "--------------------------------------------------------------------------------\n",
      "10 fits failed with the following error:\n",
      "Traceback (most recent call last):\n",
      "  File \"C:\\Users\\user\\anaconda3\\lib\\site-packages\\sklearn\\model_selection\\_validation.py\", line 680, in _fit_and_score\n",
      "    estimator.fit(X_train, y_train, **fit_params)\n",
      "  File \"C:\\Users\\user\\anaconda3\\lib\\site-packages\\sklearn\\ensemble\\_forest.py\", line 450, in fit\n",
      "    trees = Parallel(\n",
      "  File \"C:\\Users\\user\\anaconda3\\lib\\site-packages\\joblib\\parallel.py\", line 1043, in __call__\n",
      "    if self.dispatch_one_batch(iterator):\n",
      "  File \"C:\\Users\\user\\anaconda3\\lib\\site-packages\\joblib\\parallel.py\", line 861, in dispatch_one_batch\n",
      "    self._dispatch(tasks)\n",
      "  File \"C:\\Users\\user\\anaconda3\\lib\\site-packages\\joblib\\parallel.py\", line 779, in _dispatch\n",
      "    job = self._backend.apply_async(batch, callback=cb)\n",
      "  File \"C:\\Users\\user\\anaconda3\\lib\\site-packages\\joblib\\_parallel_backends.py\", line 208, in apply_async\n",
      "    result = ImmediateResult(func)\n",
      "  File \"C:\\Users\\user\\anaconda3\\lib\\site-packages\\joblib\\_parallel_backends.py\", line 572, in __init__\n",
      "    self.results = batch()\n",
      "  File \"C:\\Users\\user\\anaconda3\\lib\\site-packages\\joblib\\parallel.py\", line 262, in __call__\n",
      "    return [func(*args, **kwargs)\n",
      "  File \"C:\\Users\\user\\anaconda3\\lib\\site-packages\\joblib\\parallel.py\", line 262, in <listcomp>\n",
      "    return [func(*args, **kwargs)\n",
      "  File \"C:\\Users\\user\\anaconda3\\lib\\site-packages\\sklearn\\utils\\fixes.py\", line 216, in __call__\n",
      "    return self.function(*args, **kwargs)\n",
      "  File \"C:\\Users\\user\\anaconda3\\lib\\site-packages\\sklearn\\ensemble\\_forest.py\", line 185, in _parallel_build_trees\n",
      "    tree.fit(X, y, sample_weight=curr_sample_weight, check_input=False)\n",
      "  File \"C:\\Users\\user\\anaconda3\\lib\\site-packages\\sklearn\\tree\\_classes.py\", line 937, in fit\n",
      "    super().fit(\n",
      "  File \"C:\\Users\\user\\anaconda3\\lib\\site-packages\\sklearn\\tree\\_classes.py\", line 250, in fit\n",
      "    raise ValueError(\n",
      "ValueError: min_samples_split must be an integer greater than 1 or a float in (0.0, 1.0]; got the integer 1\n",
      "\n",
      "--------------------------------------------------------------------------------\n",
      "10 fits failed with the following error:\n",
      "Traceback (most recent call last):\n",
      "  File \"C:\\Users\\user\\anaconda3\\lib\\site-packages\\sklearn\\model_selection\\_validation.py\", line 680, in _fit_and_score\n",
      "    estimator.fit(X_train, y_train, **fit_params)\n",
      "  File \"C:\\Users\\user\\anaconda3\\lib\\site-packages\\sklearn\\ensemble\\_forest.py\", line 450, in fit\n",
      "    trees = Parallel(\n",
      "  File \"C:\\Users\\user\\anaconda3\\lib\\site-packages\\joblib\\parallel.py\", line 1043, in __call__\n",
      "    if self.dispatch_one_batch(iterator):\n",
      "  File \"C:\\Users\\user\\anaconda3\\lib\\site-packages\\joblib\\parallel.py\", line 861, in dispatch_one_batch\n",
      "    self._dispatch(tasks)\n",
      "  File \"C:\\Users\\user\\anaconda3\\lib\\site-packages\\joblib\\parallel.py\", line 779, in _dispatch\n",
      "    job = self._backend.apply_async(batch, callback=cb)\n",
      "  File \"C:\\Users\\user\\anaconda3\\lib\\site-packages\\joblib\\_parallel_backends.py\", line 208, in apply_async\n",
      "    result = ImmediateResult(func)\n",
      "  File \"C:\\Users\\user\\anaconda3\\lib\\site-packages\\joblib\\_parallel_backends.py\", line 572, in __init__\n",
      "    self.results = batch()\n",
      "  File \"C:\\Users\\user\\anaconda3\\lib\\site-packages\\joblib\\parallel.py\", line 262, in __call__\n",
      "    return [func(*args, **kwargs)\n",
      "  File \"C:\\Users\\user\\anaconda3\\lib\\site-packages\\joblib\\parallel.py\", line 262, in <listcomp>\n",
      "    return [func(*args, **kwargs)\n",
      "  File \"C:\\Users\\user\\anaconda3\\lib\\site-packages\\sklearn\\utils\\fixes.py\", line 216, in __call__\n",
      "    return self.function(*args, **kwargs)\n",
      "  File \"C:\\Users\\user\\anaconda3\\lib\\site-packages\\sklearn\\ensemble\\_forest.py\", line 187, in _parallel_build_trees\n",
      "    tree.fit(X, y, sample_weight=sample_weight, check_input=False)\n",
      "  File \"C:\\Users\\user\\anaconda3\\lib\\site-packages\\sklearn\\tree\\_classes.py\", line 937, in fit\n",
      "    super().fit(\n",
      "  File \"C:\\Users\\user\\anaconda3\\lib\\site-packages\\sklearn\\tree\\_classes.py\", line 250, in fit\n",
      "    raise ValueError(\n",
      "ValueError: min_samples_split must be an integer greater than 1 or a float in (0.0, 1.0]; got the integer 1\n",
      "\n",
      "  warnings.warn(some_fits_failed_message, FitFailedWarning)\n",
      "C:\\Users\\user\\anaconda3\\lib\\site-packages\\sklearn\\model_selection\\_search.py:969: UserWarning: One or more of the test scores are non-finite: [nan  1. nan  1. nan  1. nan  1.]\n",
      "  warnings.warn(\n"
     ]
    },
    {
     "data": {
      "text/plain": [
       "GridSearchCV(cv=5, estimator=RandomForestClassifier(), n_jobs=-1,\n",
       "             param_grid={'bootstrap': [True, False],\n",
       "                         'criterion': ['gini', 'entropy'],\n",
       "                         'min_samples_split': [1, 2]},\n",
       "             scoring='accuracy')"
      ]
     },
     "execution_count": 236,
     "metadata": {},
     "output_type": "execute_result"
    }
   ],
   "source": [
    "gs.fit(x_train,y_train)"
   ]
  },
  {
   "cell_type": "code",
   "execution_count": null,
   "id": "e7c20935",
   "metadata": {},
   "outputs": [],
   "source": [
    "gs.best_params_"
   ]
  },
  {
   "cell_type": "code",
   "execution_count": null,
   "id": "760cf570",
   "metadata": {
    "scrolled": true
   },
   "outputs": [],
   "source": [
    "gs.best_score_"
   ]
  },
  {
   "cell_type": "code",
   "execution_count": null,
   "id": "1cf30df6",
   "metadata": {},
   "outputs": [],
   "source": [
    "y_hat = gs.best_estimator_.predict(x_test)"
   ]
  },
  {
   "cell_type": "code",
   "execution_count": null,
   "id": "eef65461",
   "metadata": {},
   "outputs": [],
   "source": [
    "print(f'정확도 : {accuracy_score(y_test, y_hat):.3f}')\n",
    "print(f'재현율 : {recall_score(y_test, y_hat):.3f}')\n",
    "print(f'precision : {precision_score(y_test, y_hat):.3f}')\n",
    "print(f'F1 : {f1_score(y_test, y_hat):.3f}')\n",
    "print(f'roc_auc : {roc_auc_score(y_test, model.predict_proba(x_test)[:,1]):.3f}')"
   ]
  }
 ],
 "metadata": {
  "kernelspec": {
   "display_name": "Python 3 (ipykernel)",
   "language": "python",
   "name": "python3"
  },
  "language_info": {
   "codemirror_mode": {
    "name": "ipython",
    "version": 3
   },
   "file_extension": ".py",
   "mimetype": "text/x-python",
   "name": "python",
   "nbconvert_exporter": "python",
   "pygments_lexer": "ipython3",
   "version": "3.9.13"
  },
  "toc": {
   "base_numbering": 1,
   "nav_menu": {},
   "number_sections": true,
   "sideBar": true,
   "skip_h1_title": false,
   "title_cell": "Table of Contents",
   "title_sidebar": "Contents",
   "toc_cell": false,
   "toc_position": {},
   "toc_section_display": true,
   "toc_window_display": false
  }
 },
 "nbformat": 4,
 "nbformat_minor": 5
}
