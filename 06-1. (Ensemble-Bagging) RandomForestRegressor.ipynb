{
 "cells": [
  {
   "cell_type": "markdown",
   "id": "a2113169",
   "metadata": {},
   "source": [
    "# 보스톤 집값 예측"
   ]
  },
  {
   "cell_type": "markdown",
   "id": "586e0d7a",
   "metadata": {},
   "source": [
    "## 패키지 로딩"
   ]
  },
  {
   "cell_type": "code",
   "execution_count": 14,
   "id": "509f3b2c",
   "metadata": {},
   "outputs": [],
   "source": [
    "import warnings\n",
    "warnings.filterwarnings(action='ignore') # action - 'default' 원상복귀"
   ]
  },
  {
   "cell_type": "code",
   "execution_count": 29,
   "id": "a4fa7e36",
   "metadata": {},
   "outputs": [],
   "source": [
    "from sklearn.datasets import load_boston\n",
    "from sklearn.model_selection import train_test_split\n",
    "from sklearn.preprocessing import StandardScaler, MinMaxScaler\n",
    "from sklearn.linear_model import LinearRegression\n",
    "from sklearn.ensemble import RandomForestRegressor\n",
    "from sklearn.metrics import mean_squared_error, r2_score, mean_absolute_error\n",
    "import numpy as np"
   ]
  },
  {
   "cell_type": "code",
   "execution_count": 16,
   "id": "dff8a2ab",
   "metadata": {},
   "outputs": [],
   "source": [
    "x,y = load_boston(return_X_y= True)"
   ]
  },
  {
   "cell_type": "markdown",
   "id": "a90b4667",
   "metadata": {},
   "source": [
    "## 학습, 평가 데이터 분할"
   ]
  },
  {
   "cell_type": "code",
   "execution_count": 24,
   "id": "74eddf8c",
   "metadata": {},
   "outputs": [],
   "source": [
    "scaled_x = StandardScaler().fit_transform(x)\n",
    "x_train, x_test, y_train, y_test = train_test_split(scaled_x, y, test_size= 0.3, random_state= 10)"
   ]
  },
  {
   "cell_type": "markdown",
   "id": "04a3cb61",
   "metadata": {},
   "source": [
    "## 모델 생성 및 검증"
   ]
  },
  {
   "cell_type": "code",
   "execution_count": 25,
   "id": "e91e6692",
   "metadata": {},
   "outputs": [
    {
     "data": {
      "text/plain": [
       "RandomForestRegressor(n_estimators=20, random_state=0)"
      ]
     },
     "execution_count": 25,
     "metadata": {},
     "output_type": "execute_result"
    }
   ],
   "source": [
    "n_estimators = 20 # 모델의 개수\n",
    "model = RandomForestRegressor(n_estimators= n_estimators, random_state=0)\n",
    "model.fit(x_train,y_train)"
   ]
  },
  {
   "cell_type": "code",
   "execution_count": 30,
   "id": "29cf6430",
   "metadata": {},
   "outputs": [
    {
     "name": "stdout",
     "output_type": "stream",
     "text": [
      "n_estimators: 20개\n",
      "MSE : 12.050\n",
      "RMSE: 3.471\n",
      "R**2: 0.877\n"
     ]
    }
   ],
   "source": [
    "y_hat = model.predict(x_test)\n",
    "\n",
    "print(f'n_estimators: {n_estimators}개')\n",
    "print(f'MSE : {mean_squared_error(y_test, y_hat):.3f}')\n",
    "print(f'RMSE: {np.sqrt(mean_squared_error(y_test,y_hat)):.3f}')\n",
    "print(f'R**2: {r2_score(y_test,y_hat):.3f}')"
   ]
  },
  {
   "cell_type": "markdown",
   "id": "f5d5f9f2",
   "metadata": {},
   "source": [
    "## 하이퍼 파라메터"
   ]
  },
  {
   "cell_type": "code",
   "execution_count": 32,
   "id": "05e5443f",
   "metadata": {},
   "outputs": [
    {
     "data": {
      "text/plain": [
       "dict_keys(['explained_variance', 'r2', 'max_error', 'neg_median_absolute_error', 'neg_mean_absolute_error', 'neg_mean_absolute_percentage_error', 'neg_mean_squared_error', 'neg_mean_squared_log_error', 'neg_root_mean_squared_error', 'neg_mean_poisson_deviance', 'neg_mean_gamma_deviance', 'accuracy', 'top_k_accuracy', 'roc_auc', 'roc_auc_ovr', 'roc_auc_ovo', 'roc_auc_ovr_weighted', 'roc_auc_ovo_weighted', 'balanced_accuracy', 'average_precision', 'neg_log_loss', 'neg_brier_score', 'adjusted_rand_score', 'rand_score', 'homogeneity_score', 'completeness_score', 'v_measure_score', 'mutual_info_score', 'adjusted_mutual_info_score', 'normalized_mutual_info_score', 'fowlkes_mallows_score', 'precision', 'precision_macro', 'precision_micro', 'precision_samples', 'precision_weighted', 'recall', 'recall_macro', 'recall_micro', 'recall_samples', 'recall_weighted', 'f1', 'f1_macro', 'f1_micro', 'f1_samples', 'f1_weighted', 'jaccard', 'jaccard_macro', 'jaccard_micro', 'jaccard_samples', 'jaccard_weighted'])"
      ]
     },
     "execution_count": 32,
     "metadata": {},
     "output_type": "execute_result"
    }
   ],
   "source": [
    "from sklearn.metrics import SCORERS\n",
    "SCORERS.keys()"
   ]
  },
  {
   "cell_type": "code",
   "execution_count": 33,
   "id": "3ed93f19",
   "metadata": {},
   "outputs": [
    {
     "name": "stdout",
     "output_type": "stream",
     "text": [
      "best params {'bootstrap': False, 'max_features': 4, 'n_estimators': 10}\n"
     ]
    }
   ],
   "source": [
    "from sklearn.model_selection import GridSearchCV\n",
    "\n",
    "# max_features: 의사결정 나무가 최적의 분할을 만들기 위해 사용하는 피처의 수\n",
    "#bootstrap : 복원 추출 여부 , False : 복원추출 안함\n",
    "params = [ {'n_estimators': [3, 10, 20, 30, 40, 50],\n",
    "           'max_features': [2,4,6,8]},\n",
    "          \n",
    "          {'n_estimators': [3, 10],\n",
    "           'max_features': [2,3,4],\n",
    "          'bootstrap':[False]}]\n",
    "\n",
    "gs = GridSearchCV(model, params, cv=5, scoring = 'r2')\n",
    "gs.fit(x_train, y_train)\n",
    "\n",
    "print('best params', gs.best_params_)"
   ]
  },
  {
   "cell_type": "code",
   "execution_count": 35,
   "id": "24fb642b",
   "metadata": {},
   "outputs": [
    {
     "name": "stdout",
     "output_type": "stream",
     "text": [
      "best params {'bootstrap': False, 'max_features': 4, 'n_estimators': 10}\n",
      "MSE : 10.648\n",
      "RMSE: 3.263\n",
      "R**2: 0.891\n"
     ]
    }
   ],
   "source": [
    "y_hat = gs.best_estimator_.predict(x_test)\n",
    "\n",
    "print('best params', gs.best_params_)\n",
    "print(f'MSE : {mean_squared_error(y_test, y_hat):.3f}')\n",
    "print(f'RMSE: {np.sqrt(mean_squared_error(y_test,y_hat)):.3f}')\n",
    "print(f'R**2: {r2_score(y_test,y_hat):.3f}')"
   ]
  }
 ],
 "metadata": {
  "kernelspec": {
   "display_name": "Python 3 (ipykernel)",
   "language": "python",
   "name": "python3"
  },
  "language_info": {
   "codemirror_mode": {
    "name": "ipython",
    "version": 3
   },
   "file_extension": ".py",
   "mimetype": "text/x-python",
   "name": "python",
   "nbconvert_exporter": "python",
   "pygments_lexer": "ipython3",
   "version": "3.9.13"
  },
  "toc": {
   "base_numbering": 1,
   "nav_menu": {},
   "number_sections": true,
   "sideBar": true,
   "skip_h1_title": false,
   "title_cell": "Table of Contents",
   "title_sidebar": "Contents",
   "toc_cell": false,
   "toc_position": {},
   "toc_section_display": true,
   "toc_window_display": false
  }
 },
 "nbformat": 4,
 "nbformat_minor": 5
}
