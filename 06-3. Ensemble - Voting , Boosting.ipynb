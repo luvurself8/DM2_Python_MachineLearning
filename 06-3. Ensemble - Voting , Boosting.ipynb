{
 "cells": [
  {
   "cell_type": "markdown",
   "id": "3661ea41",
   "metadata": {},
   "source": [
    "Voting -- > 같은샘플, 다른 분류기 (회기 voting, 분류 voting"
   ]
  },
  {
   "cell_type": "markdown",
   "id": "f01ef3c9",
   "metadata": {},
   "source": [
    "# VotingRegression (보팅 회귀)\n",
    "- 여러 회귀 모형 알고리즘을 결합하고 평균 예측값을 반환한다."
   ]
  },
  {
   "cell_type": "markdown",
   "id": "4f6defe1",
   "metadata": {},
   "source": [
    "## 패키지로딩"
   ]
  },
  {
   "cell_type": "code",
   "execution_count": 2,
   "id": "eb33c18c",
   "metadata": {},
   "outputs": [],
   "source": [
    "from sklearn.datasets import load_boston\n",
    "from sklearn.linear_model import Lasso, Ridge, LinearRegression\n",
    "from sklearn.ensemble import VotingRegressor\n",
    "from sklearn.model_selection import train_test_split\n",
    "from sklearn.metrics import mean_absolute_error, mean_squared_error, r2_score\n",
    "\n",
    "import numpy as np\n",
    "import pandas as pd"
   ]
  },
  {
   "cell_type": "code",
   "execution_count": 3,
   "id": "1cb84cbd",
   "metadata": {},
   "outputs": [],
   "source": [
    "import warnings\n",
    "warnings.filterwarnings(action='ignore')"
   ]
  },
  {
   "cell_type": "markdown",
   "id": "7c7c08b1",
   "metadata": {},
   "source": [
    "## 데이터 로딩 및 분할"
   ]
  },
  {
   "cell_type": "code",
   "execution_count": 11,
   "id": "09fe7d86",
   "metadata": {},
   "outputs": [],
   "source": [
    "x, y= load_boston(return_X_y=True)\n",
    "x_train, x_test, y_train, y_test = train_test_split(x,y,test_size=0.3, random_state=0)"
   ]
  },
  {
   "cell_type": "markdown",
   "id": "fab411a9",
   "metadata": {},
   "source": [
    "## 모델 생성 및 평가"
   ]
  },
  {
   "cell_type": "code",
   "execution_count": 12,
   "id": "829e9775",
   "metadata": {},
   "outputs": [
    {
     "data": {
      "text/plain": [
       "VotingRegressor(estimators=[('Lasso', Lasso(alpha=0.05)),\n",
       "                            ('Ridge', Ridge(alpha=1)),\n",
       "                            ('Linear', LinearRegression())])"
      ]
     },
     "execution_count": 12,
     "metadata": {},
     "output_type": "execute_result"
    }
   ],
   "source": [
    "lasso = Lasso(alpha=0.05)\n",
    "ridge = Ridge(alpha=1)\n",
    "linear = LinearRegression()\n",
    "\n",
    "vo_r = VotingRegressor(estimators=[('Lasso',lasso),('Ridge',ridge),('Linear', linear)])\n",
    "\n",
    "vo_r.fit(x_train,y_train)"
   ]
  },
  {
   "cell_type": "code",
   "execution_count": 13,
   "id": "9575f6cb",
   "metadata": {},
   "outputs": [
    {
     "name": "stdout",
     "output_type": "stream",
     "text": [
      "결정계수: 0.667\n"
     ]
    }
   ],
   "source": [
    "r_squre = vo_r.score(x_test,y_test)\n",
    "print(f'결정계수: {r_squre:.3f}')"
   ]
  },
  {
   "cell_type": "code",
   "execution_count": 14,
   "id": "daa8494f",
   "metadata": {},
   "outputs": [
    {
     "name": "stdout",
     "output_type": "stream",
     "text": [
      "RSME: 5.270\n"
     ]
    }
   ],
   "source": [
    "y_hat = vo_r.predict(x_test)\n",
    "rmse = np.sqrt(mean_squared_error(y_test, y_hat))\n",
    "print(f'RSME: {rmse:.3f}')"
   ]
  },
  {
   "cell_type": "markdown",
   "id": "f36b0ba0",
   "metadata": {},
   "source": [
    "# VotingClassifier (보팅 분류)"
   ]
  },
  {
   "cell_type": "markdown",
   "id": "71efdfd1",
   "metadata": {},
   "source": [
    "## 패키지 로딩"
   ]
  },
  {
   "cell_type": "code",
   "execution_count": 15,
   "id": "e8f52419",
   "metadata": {},
   "outputs": [],
   "source": [
    "from sklearn.datasets import load_breast_cancer\n",
    "from sklearn.linear_model import LogisticRegression\n",
    "from sklearn.neighbors import KNeighborsClassifier\n",
    "from sklearn.ensemble import VotingClassifier\n",
    "from sklearn.model_selection import train_test_split\n",
    "from sklearn.metrics import accuracy_score, roc_auc_score\n",
    "\n",
    "import numpy as np\n",
    "import pandas as pd"
   ]
  },
  {
   "cell_type": "code",
   "execution_count": 25,
   "id": "78659575",
   "metadata": {},
   "outputs": [],
   "source": [
    "x, y = load_breast_cancer(return_X_y=True)\n",
    "x_train, x_test, y_train, y_test = train_test_split(x,y,test_size=0.3, random_state=0)"
   ]
  },
  {
   "cell_type": "markdown",
   "id": "ca112918",
   "metadata": {},
   "source": [
    "## 모델 생성 및 검증"
   ]
  },
  {
   "cell_type": "code",
   "execution_count": 26,
   "id": "6a3141f9",
   "metadata": {},
   "outputs": [
    {
     "name": "stdout",
     "output_type": "stream",
     "text": [
      "정확도: 0.965\n",
      "AUC: 0.994\n"
     ]
    }
   ],
   "source": [
    "logistic = LogisticRegression(max_iter=3000)\n",
    "knn = KNeighborsClassifier()\n",
    "\n",
    "# voting regression은 회기 분석이라서 voring 파라메터가 없음\n",
    "# voting = hard or soft, default =hard\n",
    "vo_c = VotingClassifier(estimators=[('Logisitic',logistic), ('KNN',knn)], voting='soft')\n",
    "vo_c.fit(x_train, y_train)\n",
    "\n",
    "y_hat = vo_c.predict(x_test)\n",
    "print(f'정확도: {accuracy_score(y_test, y_hat):.3f}')\n",
    "print(f'AUC: {roc_auc_score(y_test, vo_c.predict_proba(x_test)[:,1]):.3f}')"
   ]
  },
  {
   "cell_type": "markdown",
   "id": "1bea16c2",
   "metadata": {},
   "source": [
    "# Gradient Boossting Classifier"
   ]
  },
  {
   "cell_type": "markdown",
   "id": "b805bb4d",
   "metadata": {},
   "source": [
    "## 패키지 로딩"
   ]
  },
  {
   "cell_type": "code",
   "execution_count": 27,
   "id": "c4530e41",
   "metadata": {},
   "outputs": [],
   "source": [
    "from sklearn.datasets import load_breast_cancer\n",
    "from sklearn.ensemble import GradientBoostingClassifier\n",
    "from sklearn.model_selection import train_test_split\n",
    "from sklearn.metrics import accuracy_score, roc_auc_score"
   ]
  },
  {
   "cell_type": "markdown",
   "id": "19ba010f",
   "metadata": {},
   "source": [
    "## 데이터 로딩 및 분할"
   ]
  },
  {
   "cell_type": "code",
   "execution_count": 28,
   "id": "b99e7b46",
   "metadata": {},
   "outputs": [],
   "source": [
    "x, y = load_breast_cancer(return_X_y=True)\n",
    "x_train, x_test, y_train, y_test = train_test_split(x,y,test_size=0.3, random_state=0)"
   ]
  },
  {
   "cell_type": "markdown",
   "id": "bfe15167",
   "metadata": {},
   "source": [
    "## 모델 생성 및 평가\n",
    "- GradientBoostingClassifier\n",
    "    - 랜덤포레스트와 같이 의사결정 나무 모델을 부스팅 방법으로 활용하는 모델\n",
    "    - 이전 예측기가 만든 잔여오차(residual error)에 새로운 예측기를 학습시킴"
   ]
  },
  {
   "cell_type": "code",
   "execution_count": 30,
   "id": "8289a828",
   "metadata": {},
   "outputs": [
    {
     "name": "stdout",
     "output_type": "stream",
     "text": [
      "정확도: 0.977\n",
      "AUC: 0.994\n"
     ]
    }
   ],
   "source": [
    "gb_c = GradientBoostingClassifier()\n",
    "gb_c.fit(x_train, y_train)\n",
    "\n",
    "y_hat = gb_c.predict(x_test)\n",
    "print(f'정확도: {accuracy_score(y_test, y_hat):.3f}')\n",
    "print(f'AUC: {roc_auc_score(y_test, vo_c.predict_proba(x_test)[:,1]):.3f}')"
   ]
  },
  {
   "cell_type": "markdown",
   "id": "4993ad0a",
   "metadata": {},
   "source": [
    "## 하이퍼 파라메터 튜닝"
   ]
  },
  {
   "cell_type": "code",
   "execution_count": null,
   "id": "d673ff05",
   "metadata": {},
   "outputs": [],
   "source": [
    "# gradient Boost도 의사결정나무를 이용하기 때문에 같은 파라미터가 있다"
   ]
  },
  {
   "cell_type": "code",
   "execution_count": 31,
   "id": "10561c8d",
   "metadata": {},
   "outputs": [
    {
     "data": {
      "text/plain": [
       "GridSearchCV(estimator=GradientBoostingClassifier(), n_jobs=-1,\n",
       "             param_grid={'max_depth': [6, 8, 10, 12],\n",
       "                         'min_samples_leaf': [3, 5, 7, 19],\n",
       "                         'min_samples_split': [3, 5, 7, 10],\n",
       "                         'n_estimators': [100, 200]},\n",
       "             scoring='accuracy')"
      ]
     },
     "execution_count": 31,
     "metadata": {},
     "output_type": "execute_result"
    }
   ],
   "source": [
    "from sklearn.model_selection import GridSearchCV\n",
    "gbc_params = {'n_estimators':[100,200],\n",
    "            'max_depth':[6,8,10,12],\n",
    "            'min_samples_leaf':[3,5,7,19],\n",
    "            'min_samples_split':[3,5,7,10]}\n",
    "\n",
    "gbc_gs = GridSearchCV(gb_c, gbc_params, scoring= 'accuracy', n_jobs=-1)#전체 코어사용\n",
    "gbc_gs.fit(x_train, y_train)"
   ]
  },
  {
   "cell_type": "code",
   "execution_count": 32,
   "id": "e14c83bc",
   "metadata": {},
   "outputs": [
    {
     "name": "stdout",
     "output_type": "stream",
     "text": [
      "최적 파라메터: {'max_depth': 12, 'min_samples_leaf': 7, 'min_samples_split': 3, 'n_estimators': 200}\n",
      "예측 정확도: 0.9648417721518987\n"
     ]
    }
   ],
   "source": [
    "print('최적 파라메터:', gbc_gs.best_params_)\n",
    "print('예측 정확도:', gbc_gs.best_score_)"
   ]
  },
  {
   "cell_type": "markdown",
   "id": "65ed448f",
   "metadata": {},
   "source": [
    "## Gradient Boosting Regressor (부스팅 회귀)"
   ]
  },
  {
   "cell_type": "code",
   "execution_count": 33,
   "id": "c21ad6f6",
   "metadata": {},
   "outputs": [],
   "source": [
    "from sklearn.datasets import load_diabetes\n",
    "from sklearn.ensemble import GradientBoostingRegressor\n",
    "from sklearn.model_selection import train_test_split\n",
    "from sklearn.metrics import mean_squared_error\n",
    "\n",
    "import numpy as np"
   ]
  },
  {
   "cell_type": "markdown",
   "id": "cbfffb9b",
   "metadata": {},
   "source": [
    "## 데이터 로딩 및 분할"
   ]
  },
  {
   "cell_type": "code",
   "execution_count": 34,
   "id": "3ae269f1",
   "metadata": {},
   "outputs": [],
   "source": [
    "x, y = load_diabetes(return_X_y= True)\n",
    "x_train, x_test, y_train, y_test = train_test_split(x,y,test_size=0.3, random_state=0)"
   ]
  },
  {
   "cell_type": "code",
   "execution_count": 35,
   "id": "4a94454b",
   "metadata": {},
   "outputs": [
    {
     "data": {
      "text/plain": [
       "GradientBoostingClassifier(max_depth=6, n_estimators=120)"
      ]
     },
     "execution_count": 35,
     "metadata": {},
     "output_type": "execute_result"
    }
   ],
   "source": [
    "gb_r = GradientBoostingClassifier(n_estimators=120, max_depth=6)\n",
    "gb_r.fit(x_train, y_train)"
   ]
  },
  {
   "cell_type": "code",
   "execution_count": 37,
   "id": "39e22da9",
   "metadata": {},
   "outputs": [
    {
     "name": "stdout",
     "output_type": "stream",
     "text": [
      "결정계수:0.000000\n",
      "RMSE: 81.517\n"
     ]
    }
   ],
   "source": [
    "y_hat = gb_r.predict(x_test)\n",
    "r_square = gb_r.score(x_test, y_test)\n",
    "rmse = np.sqrt(mean_squared_error(y_test, y_hat))\n",
    "print(f'결정계수:{r_square:3f}')\n",
    "print(f'RMSE: {rmse:.3f}')"
   ]
  }
 ],
 "metadata": {
  "kernelspec": {
   "display_name": "Python 3 (ipykernel)",
   "language": "python",
   "name": "python3"
  },
  "language_info": {
   "codemirror_mode": {
    "name": "ipython",
    "version": 3
   },
   "file_extension": ".py",
   "mimetype": "text/x-python",
   "name": "python",
   "nbconvert_exporter": "python",
   "pygments_lexer": "ipython3",
   "version": "3.9.13"
  },
  "toc": {
   "base_numbering": 1,
   "nav_menu": {},
   "number_sections": true,
   "sideBar": true,
   "skip_h1_title": false,
   "title_cell": "Table of Contents",
   "title_sidebar": "Contents",
   "toc_cell": false,
   "toc_position": {},
   "toc_section_display": true,
   "toc_window_display": false
  }
 },
 "nbformat": 4,
 "nbformat_minor": 5
}
